{
 "cells": [
  {
   "cell_type": "code",
   "execution_count": 1,
   "metadata": {},
   "outputs": [],
   "source": [
    "#importing libraries\n",
    "from tweepy import API, OAuthHandler\n",
    "from textblob import TextBlob\n",
    "import tweepy\n",
    "import pandas as pd\n",
    "import re\n",
    "import matplotlib.pyplot as plt\n",
    "import seaborn as sns\n",
    "import numpy as np\n",
    "from wordcloud import WordCloud, STOPWORDS\n",
    "from PIL import Image"
   ]
  },
  {
   "cell_type": "code",
   "execution_count": 2,
   "metadata": {},
   "outputs": [],
   "source": [
    "api_key = 'xxxxxxxxxx'\n",
    "api_secret_key = 'xxxxxxxxxxxxxxxxxxxxxxxxx'"
   ]
  },
  {
   "cell_type": "code",
   "execution_count": 3,
   "metadata": {},
   "outputs": [],
   "source": [
    "auth = tweepy.OAuthHandler(api_key, api_secret_key)"
   ]
  },
  {
   "cell_type": "code",
   "execution_count": 4,
   "metadata": {},
   "outputs": [],
   "source": [
    "api = tweepy.API(auth,wait_on_rate_limit=True, wait_on_rate_limit_notify=True)"
   ]
  },
  {
   "cell_type": "code",
   "execution_count": 5,
   "metadata": {},
   "outputs": [],
   "source": [
    "wizkid = []\n",
    "for page in tweepy.Cursor(api.search, q='wizkid', count=20).pages(600):#grabbing twe   ets about wizkid\n",
    "    for item in page:\n",
    "        wizkid.append(item.text)"
   ]
  },
  {
   "cell_type": "code",
   "execution_count": 6,
   "metadata": {},
   "outputs": [
    {
     "data": {
      "text/plain": [
       "11687"
      ]
     },
     "execution_count": 6,
     "metadata": {},
     "output_type": "execute_result"
    }
   ],
   "source": [
    "len(wizkid)"
   ]
  },
  {
   "cell_type": "code",
   "execution_count": 7,
   "metadata": {},
   "outputs": [],
   "source": [
    "davido = []\n",
    "for page in tweepy.Cursor(api.search, q='davido', count=20).pages(600):#grabbing tweets about davido\n",
    "    for item in page:\n",
    "        davido.append(item.text)"
   ]
  },
  {
   "cell_type": "code",
   "execution_count": 8,
   "metadata": {},
   "outputs": [
    {
     "data": {
      "text/plain": [
       "11932"
      ]
     },
     "execution_count": 8,
     "metadata": {},
     "output_type": "execute_result"
    }
   ],
   "source": [
    "len(davido)"
   ]
  },
  {
   "cell_type": "code",
   "execution_count": 9,
   "metadata": {},
   "outputs": [],
   "source": [
    "burnaboy = []\n",
    "for page in tweepy.Cursor(api.search, q='burnaboy', count=20).pages(600):#grabbing tweets about burnaboy\n",
    "    for item in page:\n",
    "        burnaboy.append(item.text)"
   ]
  },
  {
   "cell_type": "code",
   "execution_count": 10,
   "metadata": {},
   "outputs": [
    {
     "data": {
      "text/plain": [
       "11909"
      ]
     },
     "execution_count": 10,
     "metadata": {},
     "output_type": "execute_result"
    }
   ],
   "source": [
    "len(burnaboy)"
   ]
  },
  {
   "cell_type": "code",
   "execution_count": 11,
   "metadata": {},
   "outputs": [],
   "source": [
    "#deleting some tweets so lists can be same length to create a dataframe\n",
    "del davido[:245]\n",
    "del burnaboy[:222]"
   ]
  },
  {
   "cell_type": "code",
   "execution_count": 12,
   "metadata": {},
   "outputs": [
    {
     "data": {
      "text/plain": [
       "11687"
      ]
     },
     "execution_count": 12,
     "metadata": {},
     "output_type": "execute_result"
    }
   ],
   "source": [
    "len(burnaboy)"
   ]
  },
  {
   "cell_type": "code",
   "execution_count": 13,
   "metadata": {},
   "outputs": [],
   "source": [
    "df = pd.DataFrame(list(zip(wizkid, davido, burnaboy)),columns = ['Wizkid', 'Davido', 'Burnaboy'])"
   ]
  },
  {
   "cell_type": "code",
   "execution_count": 14,
   "metadata": {},
   "outputs": [],
   "source": [
    "#creating function to clean columns\n",
    "def clean_tweet(txt):\n",
    "    txt = re.sub(r'@[A-Za-z0-9_]+', '', txt)#removing mentions\n",
    "    txt = re.sub(r'https?:\\/\\/[A-Za-z0-9\\.\\/]+', '', txt)#removing urls\n",
    "    txt = re.sub(r'#', '', txt)#removing hashtags\n",
    "    txt = re.sub(r'RT : ', '', txt)#removing retweets\n",
    "    return txt"
   ]
  },
  {
   "cell_type": "code",
   "execution_count": 15,
   "metadata": {},
   "outputs": [
    {
     "data": {
      "text/html": [
       "<div>\n",
       "<style scoped>\n",
       "    .dataframe tbody tr th:only-of-type {\n",
       "        vertical-align: middle;\n",
       "    }\n",
       "\n",
       "    .dataframe tbody tr th {\n",
       "        vertical-align: top;\n",
       "    }\n",
       "\n",
       "    .dataframe thead th {\n",
       "        text-align: right;\n",
       "    }\n",
       "</style>\n",
       "<table border=\"1\" class=\"dataframe\">\n",
       "  <thead>\n",
       "    <tr style=\"text-align: right;\">\n",
       "      <th></th>\n",
       "      <th>Wizkid</th>\n",
       "      <th>Davido</th>\n",
       "      <th>Burnaboy</th>\n",
       "    </tr>\n",
       "  </thead>\n",
       "  <tbody>\n",
       "    <tr>\n",
       "      <th>0</th>\n",
       "      <td>I will not forgive you davido for not signi...</td>\n",
       "      <td>Since nobody is helping I want to sell my phon...</td>\n",
       "      <td>\"Shey na here we go dey forever \"</td>\n",
       "    </tr>\n",
       "    <tr>\n",
       "      <th>1</th>\n",
       "      <td>Few days ago some riffraffs called me a toxic ...</td>\n",
       "      <td>2 years ago today ... I sold out  arena london...</td>\n",
       "      <td>Knocking kpo kpo kpo</td>\n",
       "    </tr>\n",
       "    <tr>\n",
       "      <th>2</th>\n",
       "      <td>Wizkid fc I beg una ehn,  the way joro dey go ...</td>\n",
       "      <td>Do you remember the RMD actor that sent Davido...</td>\n",
       "      <td>You be big fool ..... Dem come tell you say  ...</td>\n",
       "    </tr>\n",
       "    <tr>\n",
       "      <th>3</th>\n",
       "      <td>Wizkid fc and foolishness 5/6, somebo…</td>\n",
       "      <td>5 minutes into my kidnapping \\n\\nMe: Bros, Abe...</td>\n",
       "      <td></td>\n",
       "    </tr>\n",
       "    <tr>\n",
       "      <th>4</th>\n",
       "      <td>Chidinma’s Emi Ni Baller Remix featuring Wizki...</td>\n",
       "      <td>Follow  now🙏 DAVIDO Ghana🇬🇭Fanpage, \\n\\n30BG</td>\n",
       "      <td>🦍</td>\n",
       "    </tr>\n",
       "  </tbody>\n",
       "</table>\n",
       "</div>"
      ],
      "text/plain": [
       "                                              Wizkid  \\\n",
       "0     I will not forgive you davido for not signi...   \n",
       "1  Few days ago some riffraffs called me a toxic ...   \n",
       "2  Wizkid fc I beg una ehn,  the way joro dey go ...   \n",
       "3            Wizkid fc and foolishness 5/6, somebo…    \n",
       "4  Chidinma’s Emi Ni Baller Remix featuring Wizki...   \n",
       "\n",
       "                                              Davido  \\\n",
       "0  Since nobody is helping I want to sell my phon...   \n",
       "1  2 years ago today ... I sold out  arena london...   \n",
       "2  Do you remember the RMD actor that sent Davido...   \n",
       "3  5 minutes into my kidnapping \\n\\nMe: Bros, Abe...   \n",
       "4       Follow  now🙏 DAVIDO Ghana🇬🇭Fanpage, \\n\\n30BG   \n",
       "\n",
       "                                            Burnaboy  \n",
       "0                  \"Shey na here we go dey forever \"  \n",
       "1                               Knocking kpo kpo kpo  \n",
       "2   You be big fool ..... Dem come tell you say  ...  \n",
       "3                                                     \n",
       "4                                                  🦍  "
      ]
     },
     "execution_count": 15,
     "metadata": {},
     "output_type": "execute_result"
    }
   ],
   "source": [
    "#applying function to columns\n",
    "df['Wizkid'] = df['Wizkid'].apply(clean_tweet)\n",
    "df['Davido'] = df['Davido'].apply(clean_tweet)\n",
    "df['Burnaboy'] = df['Burnaboy'].apply(clean_tweet)\n",
    "df.head()"
   ]
  },
  {
   "cell_type": "code",
   "execution_count": 16,
   "metadata": {},
   "outputs": [],
   "source": [
    "df.to_csv('Wizkid_Davido_Burna_tweet.csv')"
   ]
  },
  {
   "cell_type": "code",
   "execution_count": 17,
   "metadata": {},
   "outputs": [],
   "source": [
    "#defining function to get subjectivity and polarity\n",
    "def getSubjectivity(txt):\n",
    "    return TextBlob(txt).sentiment.subjectivity\n",
    "def getPolarity(txt):\n",
    "    return TextBlob(txt).sentiment.polarity"
   ]
  },
  {
   "cell_type": "code",
   "execution_count": 18,
   "metadata": {},
   "outputs": [
    {
     "data": {
      "text/html": [
       "<div>\n",
       "<style scoped>\n",
       "    .dataframe tbody tr th:only-of-type {\n",
       "        vertical-align: middle;\n",
       "    }\n",
       "\n",
       "    .dataframe tbody tr th {\n",
       "        vertical-align: top;\n",
       "    }\n",
       "\n",
       "    .dataframe thead th {\n",
       "        text-align: right;\n",
       "    }\n",
       "</style>\n",
       "<table border=\"1\" class=\"dataframe\">\n",
       "  <thead>\n",
       "    <tr style=\"text-align: right;\">\n",
       "      <th></th>\n",
       "      <th>Wizkid</th>\n",
       "      <th>Davido</th>\n",
       "      <th>Burnaboy</th>\n",
       "      <th>Wiz_Subjectivity</th>\n",
       "      <th>Wiz_Polarity</th>\n",
       "      <th>Dav_Subjectivity</th>\n",
       "      <th>Dav_Polarity</th>\n",
       "      <th>Bur_Subjectivity</th>\n",
       "      <th>Bur_Polarity</th>\n",
       "    </tr>\n",
       "  </thead>\n",
       "  <tbody>\n",
       "    <tr>\n",
       "      <th>0</th>\n",
       "      <td>I will not forgive you davido for not signi...</td>\n",
       "      <td>Since nobody is helping I want to sell my phon...</td>\n",
       "      <td>\"Shey na here we go dey forever \"</td>\n",
       "      <td>0.000000</td>\n",
       "      <td>0.000</td>\n",
       "      <td>0.8500</td>\n",
       "      <td>0.250000</td>\n",
       "      <td>0.0</td>\n",
       "      <td>0.0</td>\n",
       "    </tr>\n",
       "    <tr>\n",
       "      <th>1</th>\n",
       "      <td>Few days ago some riffraffs called me a toxic ...</td>\n",
       "      <td>2 years ago today ... I sold out  arena london...</td>\n",
       "      <td>Knocking kpo kpo kpo</td>\n",
       "      <td>0.100000</td>\n",
       "      <td>-0.200</td>\n",
       "      <td>0.0000</td>\n",
       "      <td>0.000000</td>\n",
       "      <td>0.0</td>\n",
       "      <td>0.0</td>\n",
       "    </tr>\n",
       "    <tr>\n",
       "      <th>2</th>\n",
       "      <td>Wizkid fc I beg una ehn,  the way joro dey go ...</td>\n",
       "      <td>Do you remember the RMD actor that sent Davido...</td>\n",
       "      <td>You be big fool ..... Dem come tell you say  ...</td>\n",
       "      <td>0.366667</td>\n",
       "      <td>0.325</td>\n",
       "      <td>0.4375</td>\n",
       "      <td>0.005682</td>\n",
       "      <td>0.1</td>\n",
       "      <td>0.0</td>\n",
       "    </tr>\n",
       "    <tr>\n",
       "      <th>3</th>\n",
       "      <td>Wizkid fc and foolishness 5/6, somebo…</td>\n",
       "      <td>5 minutes into my kidnapping \\n\\nMe: Bros, Abe...</td>\n",
       "      <td></td>\n",
       "      <td>0.000000</td>\n",
       "      <td>0.000</td>\n",
       "      <td>0.0000</td>\n",
       "      <td>0.000000</td>\n",
       "      <td>0.0</td>\n",
       "      <td>0.0</td>\n",
       "    </tr>\n",
       "    <tr>\n",
       "      <th>4</th>\n",
       "      <td>Chidinma’s Emi Ni Baller Remix featuring Wizki...</td>\n",
       "      <td>Follow  now🙏 DAVIDO Ghana🇬🇭Fanpage, \\n\\n30BG</td>\n",
       "      <td>🦍</td>\n",
       "      <td>0.000000</td>\n",
       "      <td>0.000</td>\n",
       "      <td>0.0000</td>\n",
       "      <td>0.000000</td>\n",
       "      <td>0.0</td>\n",
       "      <td>0.0</td>\n",
       "    </tr>\n",
       "  </tbody>\n",
       "</table>\n",
       "</div>"
      ],
      "text/plain": [
       "                                              Wizkid  \\\n",
       "0     I will not forgive you davido for not signi...   \n",
       "1  Few days ago some riffraffs called me a toxic ...   \n",
       "2  Wizkid fc I beg una ehn,  the way joro dey go ...   \n",
       "3            Wizkid fc and foolishness 5/6, somebo…    \n",
       "4  Chidinma’s Emi Ni Baller Remix featuring Wizki...   \n",
       "\n",
       "                                              Davido  \\\n",
       "0  Since nobody is helping I want to sell my phon...   \n",
       "1  2 years ago today ... I sold out  arena london...   \n",
       "2  Do you remember the RMD actor that sent Davido...   \n",
       "3  5 minutes into my kidnapping \\n\\nMe: Bros, Abe...   \n",
       "4       Follow  now🙏 DAVIDO Ghana🇬🇭Fanpage, \\n\\n30BG   \n",
       "\n",
       "                                            Burnaboy  Wiz_Subjectivity  \\\n",
       "0                  \"Shey na here we go dey forever \"          0.000000   \n",
       "1                               Knocking kpo kpo kpo          0.100000   \n",
       "2   You be big fool ..... Dem come tell you say  ...          0.366667   \n",
       "3                                                             0.000000   \n",
       "4                                                  🦍          0.000000   \n",
       "\n",
       "   Wiz_Polarity  Dav_Subjectivity  Dav_Polarity  Bur_Subjectivity  \\\n",
       "0         0.000            0.8500      0.250000               0.0   \n",
       "1        -0.200            0.0000      0.000000               0.0   \n",
       "2         0.325            0.4375      0.005682               0.1   \n",
       "3         0.000            0.0000      0.000000               0.0   \n",
       "4         0.000            0.0000      0.000000               0.0   \n",
       "\n",
       "   Bur_Polarity  \n",
       "0           0.0  \n",
       "1           0.0  \n",
       "2           0.0  \n",
       "3           0.0  \n",
       "4           0.0  "
      ]
     },
     "execution_count": 18,
     "metadata": {},
     "output_type": "execute_result"
    }
   ],
   "source": [
    "df['Wiz_Subjectivity'] = df['Wizkid'].apply(getSubjectivity)\n",
    "df['Wiz_Polarity'] = df['Wizkid'].apply(getPolarity)\n",
    "df['Dav_Subjectivity'] = df['Davido'].apply(getSubjectivity)\n",
    "df['Dav_Polarity'] = df['Davido'].apply(getPolarity)\n",
    "df['Bur_Subjectivity'] = df['Burnaboy'].apply(getSubjectivity)\n",
    "df['Bur_Polarity'] = df['Burnaboy'].apply(getPolarity)\n",
    "df.head()"
   ]
  },
  {
   "cell_type": "code",
   "execution_count": 19,
   "metadata": {},
   "outputs": [],
   "source": [
    "#function to return sentiment from polarity column\n",
    "def get_text_analysis(t):\n",
    "    if t < 0:\n",
    "        return 'Negative'\n",
    "    elif t == 0:\n",
    "        return 'Neutral'\n",
    "    else:\n",
    "        return 'Positive'"
   ]
  },
  {
   "cell_type": "code",
   "execution_count": 20,
   "metadata": {},
   "outputs": [
    {
     "data": {
      "text/html": [
       "<div>\n",
       "<style scoped>\n",
       "    .dataframe tbody tr th:only-of-type {\n",
       "        vertical-align: middle;\n",
       "    }\n",
       "\n",
       "    .dataframe tbody tr th {\n",
       "        vertical-align: top;\n",
       "    }\n",
       "\n",
       "    .dataframe thead th {\n",
       "        text-align: right;\n",
       "    }\n",
       "</style>\n",
       "<table border=\"1\" class=\"dataframe\">\n",
       "  <thead>\n",
       "    <tr style=\"text-align: right;\">\n",
       "      <th></th>\n",
       "      <th>Wizkid</th>\n",
       "      <th>Davido</th>\n",
       "      <th>Burnaboy</th>\n",
       "      <th>Wiz_Subjectivity</th>\n",
       "      <th>Wiz_Polarity</th>\n",
       "      <th>Dav_Subjectivity</th>\n",
       "      <th>Dav_Polarity</th>\n",
       "      <th>Bur_Subjectivity</th>\n",
       "      <th>Bur_Polarity</th>\n",
       "      <th>Wiz_Sentiment</th>\n",
       "      <th>Dav_Sentiment</th>\n",
       "      <th>Bur_Sentiment</th>\n",
       "    </tr>\n",
       "  </thead>\n",
       "  <tbody>\n",
       "    <tr>\n",
       "      <th>0</th>\n",
       "      <td>I will not forgive you davido for not signi...</td>\n",
       "      <td>Since nobody is helping I want to sell my phon...</td>\n",
       "      <td>\"Shey na here we go dey forever \"</td>\n",
       "      <td>0.000000</td>\n",
       "      <td>0.000</td>\n",
       "      <td>0.8500</td>\n",
       "      <td>0.250000</td>\n",
       "      <td>0.0</td>\n",
       "      <td>0.0</td>\n",
       "      <td>Neutral</td>\n",
       "      <td>Positive</td>\n",
       "      <td>Neutral</td>\n",
       "    </tr>\n",
       "    <tr>\n",
       "      <th>1</th>\n",
       "      <td>Few days ago some riffraffs called me a toxic ...</td>\n",
       "      <td>2 years ago today ... I sold out  arena london...</td>\n",
       "      <td>Knocking kpo kpo kpo</td>\n",
       "      <td>0.100000</td>\n",
       "      <td>-0.200</td>\n",
       "      <td>0.0000</td>\n",
       "      <td>0.000000</td>\n",
       "      <td>0.0</td>\n",
       "      <td>0.0</td>\n",
       "      <td>Negative</td>\n",
       "      <td>Neutral</td>\n",
       "      <td>Neutral</td>\n",
       "    </tr>\n",
       "    <tr>\n",
       "      <th>2</th>\n",
       "      <td>Wizkid fc I beg una ehn,  the way joro dey go ...</td>\n",
       "      <td>Do you remember the RMD actor that sent Davido...</td>\n",
       "      <td>You be big fool ..... Dem come tell you say  ...</td>\n",
       "      <td>0.366667</td>\n",
       "      <td>0.325</td>\n",
       "      <td>0.4375</td>\n",
       "      <td>0.005682</td>\n",
       "      <td>0.1</td>\n",
       "      <td>0.0</td>\n",
       "      <td>Positive</td>\n",
       "      <td>Positive</td>\n",
       "      <td>Neutral</td>\n",
       "    </tr>\n",
       "    <tr>\n",
       "      <th>3</th>\n",
       "      <td>Wizkid fc and foolishness 5/6, somebo…</td>\n",
       "      <td>5 minutes into my kidnapping \\n\\nMe: Bros, Abe...</td>\n",
       "      <td></td>\n",
       "      <td>0.000000</td>\n",
       "      <td>0.000</td>\n",
       "      <td>0.0000</td>\n",
       "      <td>0.000000</td>\n",
       "      <td>0.0</td>\n",
       "      <td>0.0</td>\n",
       "      <td>Neutral</td>\n",
       "      <td>Neutral</td>\n",
       "      <td>Neutral</td>\n",
       "    </tr>\n",
       "    <tr>\n",
       "      <th>4</th>\n",
       "      <td>Chidinma’s Emi Ni Baller Remix featuring Wizki...</td>\n",
       "      <td>Follow  now🙏 DAVIDO Ghana🇬🇭Fanpage, \\n\\n30BG</td>\n",
       "      <td>🦍</td>\n",
       "      <td>0.000000</td>\n",
       "      <td>0.000</td>\n",
       "      <td>0.0000</td>\n",
       "      <td>0.000000</td>\n",
       "      <td>0.0</td>\n",
       "      <td>0.0</td>\n",
       "      <td>Neutral</td>\n",
       "      <td>Neutral</td>\n",
       "      <td>Neutral</td>\n",
       "    </tr>\n",
       "  </tbody>\n",
       "</table>\n",
       "</div>"
      ],
      "text/plain": [
       "                                              Wizkid  \\\n",
       "0     I will not forgive you davido for not signi...   \n",
       "1  Few days ago some riffraffs called me a toxic ...   \n",
       "2  Wizkid fc I beg una ehn,  the way joro dey go ...   \n",
       "3            Wizkid fc and foolishness 5/6, somebo…    \n",
       "4  Chidinma’s Emi Ni Baller Remix featuring Wizki...   \n",
       "\n",
       "                                              Davido  \\\n",
       "0  Since nobody is helping I want to sell my phon...   \n",
       "1  2 years ago today ... I sold out  arena london...   \n",
       "2  Do you remember the RMD actor that sent Davido...   \n",
       "3  5 minutes into my kidnapping \\n\\nMe: Bros, Abe...   \n",
       "4       Follow  now🙏 DAVIDO Ghana🇬🇭Fanpage, \\n\\n30BG   \n",
       "\n",
       "                                            Burnaboy  Wiz_Subjectivity  \\\n",
       "0                  \"Shey na here we go dey forever \"          0.000000   \n",
       "1                               Knocking kpo kpo kpo          0.100000   \n",
       "2   You be big fool ..... Dem come tell you say  ...          0.366667   \n",
       "3                                                             0.000000   \n",
       "4                                                  🦍          0.000000   \n",
       "\n",
       "   Wiz_Polarity  Dav_Subjectivity  Dav_Polarity  Bur_Subjectivity  \\\n",
       "0         0.000            0.8500      0.250000               0.0   \n",
       "1        -0.200            0.0000      0.000000               0.0   \n",
       "2         0.325            0.4375      0.005682               0.1   \n",
       "3         0.000            0.0000      0.000000               0.0   \n",
       "4         0.000            0.0000      0.000000               0.0   \n",
       "\n",
       "   Bur_Polarity Wiz_Sentiment Dav_Sentiment Bur_Sentiment  \n",
       "0           0.0       Neutral      Positive       Neutral  \n",
       "1           0.0      Negative       Neutral       Neutral  \n",
       "2           0.0      Positive      Positive       Neutral  \n",
       "3           0.0       Neutral       Neutral       Neutral  \n",
       "4           0.0       Neutral       Neutral       Neutral  "
      ]
     },
     "execution_count": 20,
     "metadata": {},
     "output_type": "execute_result"
    }
   ],
   "source": [
    "df['Wiz_Sentiment'] = df['Wiz_Polarity'].apply(get_text_analysis)\n",
    "df['Dav_Sentiment'] = df['Dav_Polarity'].apply(get_text_analysis)\n",
    "df['Bur_Sentiment'] = df['Bur_Polarity'].apply(get_text_analysis)\n",
    "df.head()"
   ]
  },
  {
   "cell_type": "code",
   "execution_count": 21,
   "metadata": {},
   "outputs": [
    {
     "data": {
      "image/png": "[encoded data removed]",
      "text/plain": [
       "<Figure size 1080x432 with 1 Axes>"
      ]
     },
     "metadata": {},
     "output_type": "display_data"
    }
   ],
   "source": [
    "colors_list = ['lightcoral', 'lightskyblue', 'pink']\n",
    "explode_list = [0.1, 0, 0.1] # ratio for each sentiment with which to offset each wedge.\n",
    "wiz_sentiment = df.groupby(df['Wiz_Sentiment'])['Wiz_Sentiment'].count()\n",
    "wiz_sentiment.plot(kind='pie',\n",
    "                            figsize=(15, 6),\n",
    "                            autopct='%1.1f%%', \n",
    "                            startangle=90,    \n",
    "                            shadow=True,       \n",
    "                            labels=None,         # turn off labels on pie chart\n",
    "                            pctdistance=1.12,    # the ratio between the center of each pie slice and the start of the text generated by autopct \n",
    "                            colors=colors_list,  # add custom colors\n",
    "                            explode=explode_list \n",
    "                            )\n",
    "\n",
    "# scale the title up by 12% to match pctdistance\n",
    "plt.title('Piechart showing Sentimental Tweets about Wizkid', y=1.12) \n",
    "\n",
    "plt.axis('equal') \n",
    "\n",
    "# add legend\n",
    "plt.legend(labels=wiz_sentiment.index, loc='best') \n",
    "\n",
    "plt.show()"
   ]
  },
  {
   "cell_type": "code",
   "execution_count": 22,
   "metadata": {},
   "outputs": [
    {
     "data": {
      "image/png": "[encoded data removed]",
      "text/plain": [
       "<Figure size 1080x432 with 1 Axes>"
      ]
     },
     "metadata": {},
     "output_type": "display_data"
    }
   ],
   "source": [
    "colors_list = ['gold', 'yellowgreen', 'lightgreen']\n",
    "explode_list = [0.1, 0, 0.1] \n",
    "dav_sentiment = df.groupby(df['Dav_Sentiment'])['Dav_Sentiment'].count()\n",
    "dav_sentiment.plot(kind='pie',\n",
    "                            figsize=(15, 6),\n",
    "                            autopct='%1.1f%%', \n",
    "                            startangle=90,    \n",
    "                            shadow=True,       \n",
    "                            labels=None,         \n",
    "                            pctdistance=1.12,     \n",
    "                            colors=colors_list,  \n",
    "                            explode=explode_list \n",
    "                            )\n",
    "\n",
    "\n",
    "plt.title('Piechart showing Sentimental Tweets about Davido', y=1.12) \n",
    "\n",
    "plt.axis('equal') \n",
    "\n",
    "\n",
    "plt.legend(labels=dav_sentiment.index, loc='best') \n",
    "\n",
    "plt.show()"
   ]
  },
  {
   "cell_type": "code",
   "execution_count": 23,
   "metadata": {},
   "outputs": [
    {
     "data": {
      "image/png": "[encoded data removed]",
      "text/plain": [
       "<Figure size 1080x432 with 1 Axes>"
      ]
     },
     "metadata": {},
     "output_type": "display_data"
    }
   ],
   "source": [
    "colors_list = ['pink', 'lightgreen', 'lightcoral']\n",
    "explode_list = [0.1, 0, 0.1] \n",
    "bur_sentiment = df.groupby(df['Bur_Sentiment'])['Bur_Sentiment'].count()\n",
    "bur_sentiment.plot(kind='pie',\n",
    "                            figsize=(15, 6),\n",
    "                            autopct='%1.1f%%', \n",
    "                            startangle=90,    \n",
    "                            shadow=True,       \n",
    "                            labels=None,         \n",
    "                            pctdistance=1.12,     \n",
    "                            colors=colors_list,  \n",
    "                            explode=explode_list \n",
    "                            )\n",
    "\n",
    "\n",
    "plt.title('Piechart showing Sentimental Tweets about Burnaboy', y=1.12) \n",
    "\n",
    "plt.axis('equal') \n",
    "\n",
    "\n",
    "plt.legend(labels=bur_sentiment.index, loc='best') \n",
    "\n",
    "plt.show()"
   ]
  },
  {
   "cell_type": "code",
   "execution_count": 24,
   "metadata": {},
   "outputs": [
    {
     "data": {
      "text/html": [
       "<div>\n",
       "<style scoped>\n",
       "    .dataframe tbody tr th:only-of-type {\n",
       "        vertical-align: middle;\n",
       "    }\n",
       "\n",
       "    .dataframe tbody tr th {\n",
       "        vertical-align: top;\n",
       "    }\n",
       "\n",
       "    .dataframe thead th {\n",
       "        text-align: right;\n",
       "    }\n",
       "</style>\n",
       "<table border=\"1\" class=\"dataframe\">\n",
       "  <thead>\n",
       "    <tr style=\"text-align: right;\">\n",
       "      <th></th>\n",
       "      <th>Artist</th>\n",
       "      <th>Positive</th>\n",
       "      <th>Negative</th>\n",
       "      <th>Neutral</th>\n",
       "    </tr>\n",
       "  </thead>\n",
       "  <tbody>\n",
       "    <tr>\n",
       "      <th>0</th>\n",
       "      <td>Wizkid</td>\n",
       "      <td>4199</td>\n",
       "      <td>1260</td>\n",
       "      <td>6228</td>\n",
       "    </tr>\n",
       "    <tr>\n",
       "      <th>1</th>\n",
       "      <td>Davido</td>\n",
       "      <td>4921</td>\n",
       "      <td>679</td>\n",
       "      <td>6087</td>\n",
       "    </tr>\n",
       "    <tr>\n",
       "      <th>2</th>\n",
       "      <td>Burnaboy</td>\n",
       "      <td>6247</td>\n",
       "      <td>526</td>\n",
       "      <td>4914</td>\n",
       "    </tr>\n",
       "  </tbody>\n",
       "</table>\n",
       "</div>"
      ],
      "text/plain": [
       "     Artist  Positive  Negative  Neutral\n",
       "0    Wizkid      4199      1260     6228\n",
       "1    Davido      4921       679     6087\n",
       "2  Burnaboy      6247       526     4914"
      ]
     },
     "execution_count": 24,
     "metadata": {},
     "output_type": "execute_result"
    }
   ],
   "source": [
    "df1 = pd.DataFrame({'Artist': ['Wizkid', 'Davido', 'Burnaboy'], 'Positive' : [wiz_sentiment[2], dav_sentiment[2], \n",
    "                    bur_sentiment[2]], 'Negative' : [wiz_sentiment[0], dav_sentiment[0], bur_sentiment[0]], \n",
    "                    'Neutral' : [wiz_sentiment[1], dav_sentiment[1],  bur_sentiment[1]]})\n",
    "df1 "
   ]
  },
  {
   "cell_type": "code",
   "execution_count": 25,
   "metadata": {},
   "outputs": [
    {
     "data": {
      "image/png": "[encoded data removed]",
      "text/plain": [
       "<Figure size 720x360 with 1 Axes>"
      ]
     },
     "metadata": {
      "needs_background": "light"
     },
     "output_type": "display_data"
    }
   ],
   "source": [
    "pos = list(range(len(df1['Positive'])))\n",
    "width = 0.25\n",
    "fig, ax = plt.subplots(figsize=(10,5))\n",
    "plt.bar(pos, df1['Positive'], width, alpha=0.5, color='coral', label='Positive')\n",
    "plt.bar([p + width for p in pos], df1['Negative'], width, alpha=0.5, color= 'teal', label='Negative')\n",
    "plt.bar([p + width*2 for p in pos], df1['Neutral'], width, alpha=0.5, color= 'mediumvioletred', label='Neutral')\n",
    "ax.set_xticks([p + 1.5 * width for p in pos])\n",
    "ax.set_xticklabels(df1['Artist'])\n",
    "ax.set_ylabel('Count of Sentiments')\n",
    "ax.set_title('Breakdown of Sentimental Tweets')\n",
    "plt.xlim(min(pos)-width, max(pos)+width*4)\n",
    "plt.ylim([0, max(df1['Positive'] + df1['Negative'] + df1['Neutral'])])\n",
    "plt.legend()\n",
    "plt.show()"
   ]
  },
  {
   "cell_type": "code",
   "execution_count": null,
   "metadata": {},
   "outputs": [],
   "source": []
  }
 ],
 "metadata": {
  "kernelspec": {
   "display_name": "Python 3",
   "language": "python",
   "name": "python3"
  },
  "language_info": {
   "codemirror_mode": {
    "name": "ipython",
    "version": 3
   },
   "file_extension": ".py",
   "mimetype": "text/x-python",
   "name": "python",
   "nbconvert_exporter": "python",
   "pygments_lexer": "ipython3",
   "version": "3.8.3"
  }
 },
 "nbformat": 4,
 "nbformat_minor": 4
}
