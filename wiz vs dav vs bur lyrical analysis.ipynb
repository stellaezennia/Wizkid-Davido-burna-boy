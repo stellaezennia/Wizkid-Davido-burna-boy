{
 "cells": [
  {
   "cell_type": "code",
   "execution_count": 1,
   "metadata": {},
   "outputs": [],
   "source": [
    "#importing libraries\n",
    "import lyricsgenius as lg\n",
    "import pandas as pd\n",
    "import numpy as np\n",
    "import string\n",
    "from textblob import TextBlob\n",
    "import nltk\n",
    "from nltk.corpus import stopwords\n",
    "from collections import Counter\n",
    "from nltk.tokenize import word_tokenize\n",
    "import seaborn as sns\n",
    "import matplotlib.pyplot as plt\n",
    "from matplotlib.colors import ListedColormap"
   ]
  },
  {
   "cell_type": "code",
   "execution_count": 2,
   "metadata": {},
   "outputs": [],
   "source": [
    "genius = lg.Genius('xxxxxxxxxxxxxxxxxxxxxxxxxx', \n",
    "                   skip_non_songs=True, excluded_terms=['(Remix)', '(Live)'])"
   ]
  },
  {
   "cell_type": "code",
   "execution_count": 3,
   "metadata": {},
   "outputs": [
    {
     "name": "stdout",
     "output_type": "stream",
     "text": [
      "Searching for songs by Wizkid...\n",
      "\n",
      "Song 1: \"Come Closer\"\n",
      "\"Ojuelegba (Remix)\" is not valid. Skipping.\n",
      "Song 2: \"Ojuelegba\"\n",
      "Song 3: \"Blessed\"\n",
      "Song 4: \"Joro\"\n",
      "Song 5: \"Essence\"\n",
      "Song 6: \"Ginger\"\n",
      "Song 7: \"Reckless\"\n",
      "Song 8: \"Fever\"\n",
      "Song 9: \"No Stress\"\n",
      "Song 10: \"Smile\"\n",
      "Song 11: \"Ghetto Love\"\n",
      "Song 12: \"True Love\"\n",
      "Song 13: \"Longtime\"\n",
      "Song 14: \"Jaiye Jaiye\"\n",
      "Song 15: \"African Bad Gyal\"\n",
      "Song 16: \"Daddy Yo\"\n",
      "Song 17: \"Piece of Me\"\n",
      "Song 18: \"Everytime\"\n",
      "Song 19: \"Sweet One\"\n",
      "\"OVO Sound Radio Episode 37 Tracklist\" is not valid. Skipping.\n",
      "Song 20: \"Don’t Dull\"\n",
      "Song 21: \"Final (Baba Nla)\"\n",
      "Song 22: \"Grace\"\n",
      "Song 23: \"Sweet Love\"\n",
      "Song 24: \"Naughty Ride\"\n",
      "Song 25: \"Mighty Wine\"\n",
      "Song 26: \"Medicine\"\n",
      "Song 27: \"Love My Baby\"\n",
      "Song 28: \"Lagos Vibes\"\n",
      "Song 29: \"Gyrate\"\n",
      "Song 30: \"Oluwa Lo Ni\"\n",
      "Song 31: \"Picture Perfect\"\n",
      "\"Shabba (Remix)\" is not valid. Skipping.\n",
      "\"Drogba (Joanna) (Wizkid Remix)\" is not valid. Skipping.\n",
      "Song 32: \"No Lele\"\n",
      "Song 33: \"One for Me\"\n",
      "Song 34: \"Roma\"\n",
      "Song 35: \"Pick Up The Phone (Refix)\"\n",
      "Song 36: \"Odoo\"\n",
      "Song 37: \"Dirty Wine\"\n",
      "Song 38: \"Nobody\"\n",
      "\"Aboki Remix\" is not valid. Skipping.\n",
      "Song 39: \"Gbese\"\n",
      "Song 40: \"All for Love\"\n",
      "Song 41: \"Joy\"\n",
      "Song 42: \"Sexy\"\n",
      "Song 43: \"Tease Me / Bad Guys\"\n",
      "Song 44: \"Azonto\"\n",
      "Song 45: \"Drop\"\n",
      "Song 46: \"Holla at your boy\"\n",
      "Song 47: \"Thank You\"\n",
      "Song 48: \"In My Bed\"\n",
      "Song 49: \"Say My Name\"\n",
      "Song 50: \"Show You the Money\"\n",
      "Song 51: \"Highgrade\"\n",
      "Song 52: \"For You\"\n",
      "Song 53: \"On Top Your Matter\"\n",
      "Song 54: \"Bombay\"\n",
      "Song 55: \"Shout Out\"\n",
      "\"Scrrr Pull Up (Remix)\" is not valid. Skipping.\n",
      "Song 56: \"Pakurumo\"\n",
      "\"Medicine Remix\" is not valid. Skipping.\n",
      "Song 57: \"Sisi Nene\"\n",
      "\"Freak of the Week (Afrobeats Remix)\" is not valid. Skipping.\n",
      "\"Skin Tight (Remix)\" is not valid. Skipping.\n",
      "Song 58: \"Master Groove\"\n",
      "Song 59: \"Craving\"\n",
      "Song 60: \"Eledumare\"\n",
      "Song 61: \"Caro\"\n",
      "Song 62: \"Celebrate\"\n",
      "\"Don’t Tell ’Em (Afro Remix)\" is not valid. Skipping.\n",
      "Song 63: \"Gidi Girl\"\n",
      "\"Scrr Pull Up (Remix)\" is not valid. Skipping.\n",
      "Song 64: \"Scatter The Floor\"\n",
      "Song 65: \"For Me\"\n",
      "Song 66: \"Ghetto Youth Freestyle\"\n",
      "Song 67: \"Ki Lo Fe\"\n",
      "Song 68: \"Wiz party (bonus freestyle leak)\"\n",
      "Song 69: \"In Love\"\n",
      "Song 70: \"Kind Love\"\n",
      "Song 71: \"Expensive Shit\"\n",
      "Song 72: \"Slow whine (feat. banky w)\"\n",
      "Song 73: \"What you wanna do\"\n",
      "Song 74: \"Mummy Mi\"\n",
      "Song 75: \"Sweat (Doin’ It Refix)\"\n",
      "Song 76: \"Omalicha\"\n",
      "\"Fine Wine (Wizkid Remix)\" is not valid. Skipping.\n",
      "Song 77: \"Rewind Dat [Don’t Mind (Re-Fix)]\"\n",
      "Song 78: \"Samba\"\n",
      "Song 79: \"Eme Boyz (feat. Skales & Banky W)\"\n",
      "\"Show You the Money (Remix)\" is not valid. Skipping.\n",
      "Song 80: \"Ride It\"\n",
      "Song 81: \"One Question\"\n",
      "\"Surulere Remix\" is not valid. Skipping.\n",
      "Song 82: \"Olofofo (feat. wizkid)\"\n",
      "\"For Example (Remix)\" is not valid. Skipping.\n",
      "Song 83: \"Opoju (Freestyle)\"\n",
      "\"Show Me (Soco Remix)\" is not valid. Skipping.\n",
      "Song 84: \"ShabbaRMX\"\n",
      "Song 85: \"Lagos vibe\"\n",
      "Song 86: \"Daddy Yo - 2961295\"\n",
      "Song 87: \"Number One Lover\"\n",
      "Song 88: \"Sound it\"\n",
      "\"Money (Remix)\" is not valid. Skipping.\n",
      "\"Jaiye Jaiye (Remix)\" is not valid. Skipping.\n",
      "\"Eve Bounce Remix\" is not valid. Skipping.\n",
      "Song 89: \"Show U D Money\"\n",
      "Song 90: \"One dollor\"\n",
      "Song 91: \"Nobody but you\"\n",
      "\"Roll It Remix\" is not valid. Skipping.\n",
      "Song 92: \"Sexy Mama\"\n",
      "Song 93: \"Slow Whine\"\n",
      "Song 94: \"“Mine”\"\n",
      "Song 95: \"Wonder\"\n",
      "\"Surulere Remix 2\" is not valid. Skipping.\n",
      "\"U Don’t Know (Salva Remix)\" is not valid. Skipping.\n",
      "Song 96: \"Ghetto Love - 4867635\"\n",
      "\"Skin Tight (Remix)\" is not valid. Skipping.\n",
      "Song 97: \"“Joy No Woman No Cry” (Bob Marley Cover)\"\n",
      "\"Pick up the phone remix\" is not valid. Skipping.\n",
      "\"500 Soldats - Joro Remix\" is not valid. Skipping.\n",
      "Song 98: \"Dance Go\"\n",
      "Done. Found 98 songs.\n"
     ]
    }
   ],
   "source": [
    "#creating  empty lists to store values\n",
    "artist = []\n",
    "title = []\n",
    "album = []\n",
    "year = []\n",
    "lyrics = []\n",
    "\n",
    "\n",
    "wizkid = genius.search_artist('Wizkid', per_page=50, sort='popularity', include_features=False)\n",
    "    \n",
    "for song in wizkid.songs:\n",
    "    artist.append(song.artist)\n",
    "    title.append(song.title)\n",
    "    album.append(song.album)\n",
    "    year.append(song.year)\n",
    "    lyrics.append(song.lyrics)"
   ]
  },
  {
   "cell_type": "code",
   "execution_count": 4,
   "metadata": {},
   "outputs": [
    {
     "data": {
      "text/html": [
       "<div>\n",
       "<style scoped>\n",
       "    .dataframe tbody tr th:only-of-type {\n",
       "        vertical-align: middle;\n",
       "    }\n",
       "\n",
       "    .dataframe tbody tr th {\n",
       "        vertical-align: top;\n",
       "    }\n",
       "\n",
       "    .dataframe thead th {\n",
       "        text-align: right;\n",
       "    }\n",
       "</style>\n",
       "<table border=\"1\" class=\"dataframe\">\n",
       "  <thead>\n",
       "    <tr style=\"text-align: right;\">\n",
       "      <th></th>\n",
       "      <th>artist</th>\n",
       "      <th>title</th>\n",
       "      <th>album</th>\n",
       "      <th>year</th>\n",
       "      <th>lyrics</th>\n",
       "    </tr>\n",
       "  </thead>\n",
       "  <tbody>\n",
       "    <tr>\n",
       "      <th>0</th>\n",
       "      <td>Wizkid</td>\n",
       "      <td>Come Closer</td>\n",
       "      <td>Sounds from the Other Side</td>\n",
       "      <td>2017-03-31</td>\n",
       "      <td>[Intro: Drake &amp; Wizkid]\\nGo outside, big time ...</td>\n",
       "    </tr>\n",
       "    <tr>\n",
       "      <th>1</th>\n",
       "      <td>Wizkid</td>\n",
       "      <td>Ojuelegba</td>\n",
       "      <td>Ayọ (Joy)</td>\n",
       "      <td>2014-09-17</td>\n",
       "      <td>[Intro]\\n(It's Legendury Beatz)\\nYea, yea, yea...</td>\n",
       "    </tr>\n",
       "    <tr>\n",
       "      <th>2</th>\n",
       "      <td>Wizkid</td>\n",
       "      <td>Blessed</td>\n",
       "      <td>Made in Lagos</td>\n",
       "      <td>2020-10-29</td>\n",
       "      <td>[Intro]\\nCold mineral, cold pure water\\n\\n[Wiz...</td>\n",
       "    </tr>\n",
       "    <tr>\n",
       "      <th>3</th>\n",
       "      <td>Wizkid</td>\n",
       "      <td>Joro</td>\n",
       "      <td>None</td>\n",
       "      <td>2019-09-30</td>\n",
       "      <td>[Intro/Chorus]\\nJoro, joro, joro, joro, joro, ...</td>\n",
       "    </tr>\n",
       "    <tr>\n",
       "      <th>4</th>\n",
       "      <td>Wizkid</td>\n",
       "      <td>Essence</td>\n",
       "      <td>Made in Lagos</td>\n",
       "      <td>2020-10-29</td>\n",
       "      <td>[Intro: Wizkid]\\nOhh naa naa\\nOmo je ka shi ge...</td>\n",
       "    </tr>\n",
       "  </tbody>\n",
       "</table>\n",
       "</div>"
      ],
      "text/plain": [
       "   artist        title                       album        year  \\\n",
       "0  Wizkid  Come Closer  Sounds from the Other Side  2017-03-31   \n",
       "1  Wizkid    Ojuelegba                   Ayọ (Joy)  2014-09-17   \n",
       "2  Wizkid      Blessed              Made in Lagos   2020-10-29   \n",
       "3  Wizkid         Joro                        None  2019-09-30   \n",
       "4  Wizkid      Essence              Made in Lagos   2020-10-29   \n",
       "\n",
       "                                              lyrics  \n",
       "0  [Intro: Drake & Wizkid]\\nGo outside, big time ...  \n",
       "1  [Intro]\\n(It's Legendury Beatz)\\nYea, yea, yea...  \n",
       "2  [Intro]\\nCold mineral, cold pure water\\n\\n[Wiz...  \n",
       "3  [Intro/Chorus]\\nJoro, joro, joro, joro, joro, ...  \n",
       "4  [Intro: Wizkid]\\nOhh naa naa\\nOmo je ka shi ge...  "
      ]
     },
     "execution_count": 4,
     "metadata": {},
     "output_type": "execute_result"
    }
   ],
   "source": [
    "#creating dataframe from lists\n",
    "df_wizkid = pd.DataFrame({'artist':artist, 'title':title, 'album':album, 'year':year, 'lyrics':lyrics})\n",
    "df_wizkid.head()"
   ]
  },
  {
   "cell_type": "code",
   "execution_count": 5,
   "metadata": {},
   "outputs": [],
   "source": [
    "#function to clean lyrics column\n",
    "def clean(df,column):\n",
    "    df = df\n",
    "    df[column] = df[column].str.lower()\n",
    "    df[column] = df[column].str.replace(r\"verse |[1 |2 |3] |chorus |bridge |outro\",\"\").str.replace(\"]\",\"\")\n",
    "    df[column] = df[column].str.lower().str.replace(r\"instrumental|intro|guitar|solo\",\"\")\n",
    "    df[column] = df[column].str.replace(\"\\n\", \" \").str.replace(r\"[^\\w\\d'\\s]+\", \"\").str.replace(r\"'+\", \"\")\n",
    "    df[column] = df[column].str.strip()\n",
    "    \n",
    "    return df"
   ]
  },
  {
   "cell_type": "code",
   "execution_count": 6,
   "metadata": {},
   "outputs": [],
   "source": [
    "df_wizkid = clean(df_wizkid, 'lyrics')"
   ]
  },
  {
   "cell_type": "code",
   "execution_count": 7,
   "metadata": {},
   "outputs": [],
   "source": [
    "#creating list with index to replace with correct album title\n",
    "indices = [29, 45, 64, 71]\n",
    "df_wizkid.loc[indices, 'album'] = 'Superstar'"
   ]
  },
  {
   "cell_type": "code",
   "execution_count": 8,
   "metadata": {},
   "outputs": [
    {
     "data": {
      "text/html": [
       "<div>\n",
       "<style scoped>\n",
       "    .dataframe tbody tr th:only-of-type {\n",
       "        vertical-align: middle;\n",
       "    }\n",
       "\n",
       "    .dataframe tbody tr th {\n",
       "        vertical-align: top;\n",
       "    }\n",
       "\n",
       "    .dataframe thead th {\n",
       "        text-align: right;\n",
       "    }\n",
       "</style>\n",
       "<table border=\"1\" class=\"dataframe\">\n",
       "  <thead>\n",
       "    <tr style=\"text-align: right;\">\n",
       "      <th></th>\n",
       "      <th>artist</th>\n",
       "      <th>title</th>\n",
       "      <th>album</th>\n",
       "      <th>year</th>\n",
       "      <th>lyrics</th>\n",
       "    </tr>\n",
       "  </thead>\n",
       "  <tbody>\n",
       "    <tr>\n",
       "      <th>0</th>\n",
       "      <td>Wizkid</td>\n",
       "      <td>Come Closer</td>\n",
       "      <td>Sounds from the Other Side</td>\n",
       "      <td>2017-03-31</td>\n",
       "      <td>drake  wizkid go outside big time forward heh ...</td>\n",
       "    </tr>\n",
       "    <tr>\n",
       "      <th>1</th>\n",
       "      <td>Wizkid</td>\n",
       "      <td>Ojuelegba</td>\n",
       "      <td>Ayọ (Joy)</td>\n",
       "      <td>2014-09-17</td>\n",
       "      <td>its legendury beatz yea yea yea yea wizzy baba...</td>\n",
       "    </tr>\n",
       "    <tr>\n",
       "      <th>2</th>\n",
       "      <td>Wizkid</td>\n",
       "      <td>Blessed</td>\n",
       "      <td>Made in Lagos</td>\n",
       "      <td>2020-10-29</td>\n",
       "      <td>cold mineral cold pure water  wizkid woah woah...</td>\n",
       "    </tr>\n",
       "    <tr>\n",
       "      <th>4</th>\n",
       "      <td>Wizkid</td>\n",
       "      <td>Essence</td>\n",
       "      <td>Made in Lagos</td>\n",
       "      <td>2020-10-29</td>\n",
       "      <td>wizkid ohh naa naa omo je ka shi ge ge woah oh...</td>\n",
       "    </tr>\n",
       "    <tr>\n",
       "      <th>5</th>\n",
       "      <td>Wizkid</td>\n",
       "      <td>Ginger</td>\n",
       "      <td>Made in Lagos</td>\n",
       "      <td>2020-10-29</td>\n",
       "      <td>chorus burna boy  wizkid if you want make i gi...</td>\n",
       "    </tr>\n",
       "  </tbody>\n",
       "</table>\n",
       "</div>"
      ],
      "text/plain": [
       "   artist        title                       album        year  \\\n",
       "0  Wizkid  Come Closer  Sounds from the Other Side  2017-03-31   \n",
       "1  Wizkid    Ojuelegba                   Ayọ (Joy)  2014-09-17   \n",
       "2  Wizkid      Blessed              Made in Lagos   2020-10-29   \n",
       "4  Wizkid      Essence              Made in Lagos   2020-10-29   \n",
       "5  Wizkid       Ginger              Made in Lagos   2020-10-29   \n",
       "\n",
       "                                              lyrics  \n",
       "0  drake  wizkid go outside big time forward heh ...  \n",
       "1  its legendury beatz yea yea yea yea wizzy baba...  \n",
       "2  cold mineral cold pure water  wizkid woah woah...  \n",
       "4  wizkid ohh naa naa omo je ka shi ge ge woah oh...  \n",
       "5  chorus burna boy  wizkid if you want make i gi...  "
      ]
     },
     "execution_count": 8,
     "metadata": {},
     "output_type": "execute_result"
    }
   ],
   "source": [
    "df_wizkid.dropna(how='any', axis=0, subset=['album'], inplace=True)#dropping rows with null values\n",
    "df_wizkid.dropna(how='any', axis=0, subset=['lyrics'], inplace=True)\n",
    "df_wizkid.head()"
   ]
  },
  {
   "cell_type": "code",
   "execution_count": 9,
   "metadata": {},
   "outputs": [
    {
     "data": {
      "text/html": [
       "<div>\n",
       "<style scoped>\n",
       "    .dataframe tbody tr th:only-of-type {\n",
       "        vertical-align: middle;\n",
       "    }\n",
       "\n",
       "    .dataframe tbody tr th {\n",
       "        vertical-align: top;\n",
       "    }\n",
       "\n",
       "    .dataframe thead th {\n",
       "        text-align: right;\n",
       "    }\n",
       "</style>\n",
       "<table border=\"1\" class=\"dataframe\">\n",
       "  <thead>\n",
       "    <tr style=\"text-align: right;\">\n",
       "      <th></th>\n",
       "      <th>artist</th>\n",
       "      <th>title</th>\n",
       "      <th>album</th>\n",
       "      <th>year</th>\n",
       "      <th>lyrics</th>\n",
       "    </tr>\n",
       "  </thead>\n",
       "  <tbody>\n",
       "    <tr>\n",
       "      <th>0</th>\n",
       "      <td>Wizkid</td>\n",
       "      <td>Come Closer</td>\n",
       "      <td>Sounds from the Other Side</td>\n",
       "      <td>2017-03-31</td>\n",
       "      <td>drake  wizkid go outside big time forward heh ...</td>\n",
       "    </tr>\n",
       "    <tr>\n",
       "      <th>1</th>\n",
       "      <td>Wizkid</td>\n",
       "      <td>Ojuelegba</td>\n",
       "      <td>Ayọ (Joy)</td>\n",
       "      <td>2014-09-17</td>\n",
       "      <td>its legendury beatz yea yea yea yea wizzy baba...</td>\n",
       "    </tr>\n",
       "    <tr>\n",
       "      <th>2</th>\n",
       "      <td>Wizkid</td>\n",
       "      <td>Blessed</td>\n",
       "      <td>Made in Lagos</td>\n",
       "      <td>2020-10-29</td>\n",
       "      <td>cold mineral cold pure water  wizkid woah woah...</td>\n",
       "    </tr>\n",
       "    <tr>\n",
       "      <th>3</th>\n",
       "      <td>Wizkid</td>\n",
       "      <td>Essence</td>\n",
       "      <td>Made in Lagos</td>\n",
       "      <td>2020-10-29</td>\n",
       "      <td>wizkid ohh naa naa omo je ka shi ge ge woah oh...</td>\n",
       "    </tr>\n",
       "    <tr>\n",
       "      <th>4</th>\n",
       "      <td>Wizkid</td>\n",
       "      <td>Ginger</td>\n",
       "      <td>Made in Lagos</td>\n",
       "      <td>2020-10-29</td>\n",
       "      <td>chorus burna boy  wizkid if you want make i gi...</td>\n",
       "    </tr>\n",
       "  </tbody>\n",
       "</table>\n",
       "</div>"
      ],
      "text/plain": [
       "   artist        title                       album        year  \\\n",
       "0  Wizkid  Come Closer  Sounds from the Other Side  2017-03-31   \n",
       "1  Wizkid    Ojuelegba                   Ayọ (Joy)  2014-09-17   \n",
       "2  Wizkid      Blessed              Made in Lagos   2020-10-29   \n",
       "3  Wizkid      Essence              Made in Lagos   2020-10-29   \n",
       "4  Wizkid       Ginger              Made in Lagos   2020-10-29   \n",
       "\n",
       "                                              lyrics  \n",
       "0  drake  wizkid go outside big time forward heh ...  \n",
       "1  its legendury beatz yea yea yea yea wizzy baba...  \n",
       "2  cold mineral cold pure water  wizkid woah woah...  \n",
       "3  wizkid ohh naa naa omo je ka shi ge ge woah oh...  \n",
       "4  chorus burna boy  wizkid if you want make i gi...  "
      ]
     },
     "execution_count": 9,
     "metadata": {},
     "output_type": "execute_result"
    }
   ],
   "source": [
    "df_wizkid.reset_index(inplace=True)#reseting index\n",
    "df_wizkid.drop(['index'], axis=1, inplace=True)#dropping former index column\n",
    "df_wizkid.drop(df_wizkid.index[[-1, -3]], inplace=True)\n",
    "df_wizkid.head()"
   ]
  },
  {
   "cell_type": "code",
   "execution_count": 10,
   "metadata": {},
   "outputs": [],
   "source": [
    "sw_list = ['you', 'i', 'o', 'im'] #creating list with new stopwords\n",
    "new_stopwords = list(stopwords.words('english'))\n",
    "new_stopwords = new_stopwords + sw_list"
   ]
  },
  {
   "cell_type": "code",
   "execution_count": 11,
   "metadata": {},
   "outputs": [],
   "source": [
    "wiz_lyrics = df_wizkid['lyrics']\n",
    "wiz_lyrics = wiz_lyrics.apply(word_tokenize)#applying word_tokenize to list"
   ]
  },
  {
   "cell_type": "code",
   "execution_count": 12,
   "metadata": {},
   "outputs": [],
   "source": [
    "#append lyrics without stopwords to new list\n",
    "wfiltered_words = []\n",
    "for i in wiz_lyrics:\n",
    "    for j in i:\n",
    "        if j not in new_stopwords:\n",
    "            wfiltered_words.append(j)"
   ]
  },
  {
   "cell_type": "code",
   "execution_count": 13,
   "metadata": {},
   "outputs": [],
   "source": [
    "wiz_top_words = Counter(wfiltered_words)#count words"
   ]
  },
  {
   "cell_type": "code",
   "execution_count": 14,
   "metadata": {},
   "outputs": [],
   "source": [
    "#create dataframe from counter dictionary\n",
    "Wiz_Top_words = pd.DataFrame.from_dict(wiz_top_words, orient='index').reset_index()\n",
    "Wiz_Top_words = Wiz_Top_words.rename(columns={'index':'Top words', 0:'Count'})\n",
    "Wiz_Top_words.sort_values('Count', inplace = True)\n",
    "Wiz_Top_words.reset_index(inplace=True)"
   ]
  },
  {
   "cell_type": "code",
   "execution_count": 15,
   "metadata": {},
   "outputs": [
    {
     "data": {
      "text/plain": [
       "(1913, 2)"
      ]
     },
     "execution_count": 15,
     "metadata": {},
     "output_type": "execute_result"
    }
   ],
   "source": [
    "Wiz_Top_words.drop(['index'], axis=1, inplace=True)\n",
    "Wiz_Top_words.shape"
   ]
  },
  {
   "cell_type": "code",
   "execution_count": 16,
   "metadata": {},
   "outputs": [],
   "source": [
    "Wiz_Top_words.drop(Wiz_Top_words.index[:1893], inplace=True)#dropping unneeded words"
   ]
  },
  {
   "cell_type": "code",
   "execution_count": 17,
   "metadata": {},
   "outputs": [],
   "source": [
    "#function to plot top occuring words\n",
    "def plot_words(df, artist_name, palette):\n",
    "    fig, ax = plt.subplots(figsize=(16,8))\n",
    "    sns.set_style('whitegrid')\n",
    "    sns.barplot(ax=ax, x= 'Top words', y = 'Count', data = df, palette = palette)\n",
    "    plt.xlabel('Words', size = 14)\n",
    "    plt.ylabel('Word count', size = 14)\n",
    "    plt.title(\"Most used words in {}s' Albums lyrics\".format(artist_name), size = 16)\n",
    "    plt.show"
   ]
  },
  {
   "cell_type": "code",
   "execution_count": 18,
   "metadata": {},
   "outputs": [
    {
     "data": {
      "image/png": "[encoded data removed]",
      "text/plain": [
       "<Figure size 1152x576 with 1 Axes>"
      ]
     },
     "metadata": {
      "needs_background": "light"
     },
     "output_type": "display_data"
    }
   ],
   "source": [
    "plot_words(Wiz_Top_words, 'Wizkid', 'gist_heat')#plot top words"
   ]
  },
  {
   "cell_type": "code",
   "execution_count": 19,
   "metadata": {},
   "outputs": [],
   "source": [
    "#function to get subjectivity and polarity\n",
    "def getSubjectivity(txt):\n",
    "    return TextBlob(txt).sentiment.subjectivity\n",
    "def getPolarity(txt):\n",
    "    return TextBlob(txt).sentiment.polarity"
   ]
  },
  {
   "cell_type": "code",
   "execution_count": 20,
   "metadata": {},
   "outputs": [
    {
     "data": {
      "text/html": [
       "<div>\n",
       "<style scoped>\n",
       "    .dataframe tbody tr th:only-of-type {\n",
       "        vertical-align: middle;\n",
       "    }\n",
       "\n",
       "    .dataframe tbody tr th {\n",
       "        vertical-align: top;\n",
       "    }\n",
       "\n",
       "    .dataframe thead th {\n",
       "        text-align: right;\n",
       "    }\n",
       "</style>\n",
       "<table border=\"1\" class=\"dataframe\">\n",
       "  <thead>\n",
       "    <tr style=\"text-align: right;\">\n",
       "      <th></th>\n",
       "      <th>artist</th>\n",
       "      <th>title</th>\n",
       "      <th>album</th>\n",
       "      <th>year</th>\n",
       "      <th>lyrics</th>\n",
       "      <th>subjectivity</th>\n",
       "      <th>polarity</th>\n",
       "    </tr>\n",
       "  </thead>\n",
       "  <tbody>\n",
       "    <tr>\n",
       "      <th>0</th>\n",
       "      <td>Wizkid</td>\n",
       "      <td>Come Closer</td>\n",
       "      <td>Sounds from the Other Side</td>\n",
       "      <td>2017-03-31</td>\n",
       "      <td>drake  wizkid go outside big time forward heh ...</td>\n",
       "      <td>0.483529</td>\n",
       "      <td>0.138039</td>\n",
       "    </tr>\n",
       "    <tr>\n",
       "      <th>1</th>\n",
       "      <td>Wizkid</td>\n",
       "      <td>Ojuelegba</td>\n",
       "      <td>Ayọ (Joy)</td>\n",
       "      <td>2014-09-17</td>\n",
       "      <td>its legendury beatz yea yea yea yea wizzy baba...</td>\n",
       "      <td>0.505000</td>\n",
       "      <td>0.290000</td>\n",
       "    </tr>\n",
       "    <tr>\n",
       "      <th>2</th>\n",
       "      <td>Wizkid</td>\n",
       "      <td>Blessed</td>\n",
       "      <td>Made in Lagos</td>\n",
       "      <td>2020-10-29</td>\n",
       "      <td>cold mineral cold pure water  wizkid woah woah...</td>\n",
       "      <td>0.485417</td>\n",
       "      <td>0.126575</td>\n",
       "    </tr>\n",
       "    <tr>\n",
       "      <th>3</th>\n",
       "      <td>Wizkid</td>\n",
       "      <td>Essence</td>\n",
       "      <td>Made in Lagos</td>\n",
       "      <td>2020-10-29</td>\n",
       "      <td>wizkid ohh naa naa omo je ka shi ge ge woah oh...</td>\n",
       "      <td>0.590179</td>\n",
       "      <td>0.142411</td>\n",
       "    </tr>\n",
       "    <tr>\n",
       "      <th>4</th>\n",
       "      <td>Wizkid</td>\n",
       "      <td>Ginger</td>\n",
       "      <td>Made in Lagos</td>\n",
       "      <td>2020-10-29</td>\n",
       "      <td>chorus burna boy  wizkid if you want make i gi...</td>\n",
       "      <td>0.588972</td>\n",
       "      <td>0.249029</td>\n",
       "    </tr>\n",
       "  </tbody>\n",
       "</table>\n",
       "</div>"
      ],
      "text/plain": [
       "   artist        title                       album        year  \\\n",
       "0  Wizkid  Come Closer  Sounds from the Other Side  2017-03-31   \n",
       "1  Wizkid    Ojuelegba                   Ayọ (Joy)  2014-09-17   \n",
       "2  Wizkid      Blessed              Made in Lagos   2020-10-29   \n",
       "3  Wizkid      Essence              Made in Lagos   2020-10-29   \n",
       "4  Wizkid       Ginger              Made in Lagos   2020-10-29   \n",
       "\n",
       "                                              lyrics  subjectivity  polarity  \n",
       "0  drake  wizkid go outside big time forward heh ...      0.483529  0.138039  \n",
       "1  its legendury beatz yea yea yea yea wizzy baba...      0.505000  0.290000  \n",
       "2  cold mineral cold pure water  wizkid woah woah...      0.485417  0.126575  \n",
       "3  wizkid ohh naa naa omo je ka shi ge ge woah oh...      0.590179  0.142411  \n",
       "4  chorus burna boy  wizkid if you want make i gi...      0.588972  0.249029  "
      ]
     },
     "execution_count": 20,
     "metadata": {},
     "output_type": "execute_result"
    }
   ],
   "source": [
    "df_wizkid['subjectivity'] = df_wizkid['lyrics'].apply(getSubjectivity)\n",
    "df_wizkid['polarity'] = df_wizkid['lyrics'].apply(getPolarity)\n",
    "\n",
    "df_wizkid.head()"
   ]
  },
  {
   "cell_type": "code",
   "execution_count": 21,
   "metadata": {},
   "outputs": [],
   "source": [
    "def get_text_analysis(t):\n",
    "    if t < 0:\n",
    "        return 'Negative'\n",
    "    elif t == 0:\n",
    "        return 'Neutral'\n",
    "    else:\n",
    "        return 'Positive'"
   ]
  },
  {
   "cell_type": "code",
   "execution_count": 22,
   "metadata": {},
   "outputs": [
    {
     "data": {
      "text/html": [
       "<div>\n",
       "<style scoped>\n",
       "    .dataframe tbody tr th:only-of-type {\n",
       "        vertical-align: middle;\n",
       "    }\n",
       "\n",
       "    .dataframe tbody tr th {\n",
       "        vertical-align: top;\n",
       "    }\n",
       "\n",
       "    .dataframe thead th {\n",
       "        text-align: right;\n",
       "    }\n",
       "</style>\n",
       "<table border=\"1\" class=\"dataframe\">\n",
       "  <thead>\n",
       "    <tr style=\"text-align: right;\">\n",
       "      <th></th>\n",
       "      <th>artist</th>\n",
       "      <th>title</th>\n",
       "      <th>album</th>\n",
       "      <th>year</th>\n",
       "      <th>lyrics</th>\n",
       "      <th>subjectivity</th>\n",
       "      <th>polarity</th>\n",
       "      <th>sentiment</th>\n",
       "    </tr>\n",
       "  </thead>\n",
       "  <tbody>\n",
       "    <tr>\n",
       "      <th>0</th>\n",
       "      <td>Wizkid</td>\n",
       "      <td>Come Closer</td>\n",
       "      <td>Sounds from the Other Side</td>\n",
       "      <td>2017-03-31</td>\n",
       "      <td>drake  wizkid go outside big time forward heh ...</td>\n",
       "      <td>0.483529</td>\n",
       "      <td>0.138039</td>\n",
       "      <td>Positive</td>\n",
       "    </tr>\n",
       "    <tr>\n",
       "      <th>1</th>\n",
       "      <td>Wizkid</td>\n",
       "      <td>Ojuelegba</td>\n",
       "      <td>Ayọ (Joy)</td>\n",
       "      <td>2014-09-17</td>\n",
       "      <td>its legendury beatz yea yea yea yea wizzy baba...</td>\n",
       "      <td>0.505000</td>\n",
       "      <td>0.290000</td>\n",
       "      <td>Positive</td>\n",
       "    </tr>\n",
       "    <tr>\n",
       "      <th>2</th>\n",
       "      <td>Wizkid</td>\n",
       "      <td>Blessed</td>\n",
       "      <td>Made in Lagos</td>\n",
       "      <td>2020-10-29</td>\n",
       "      <td>cold mineral cold pure water  wizkid woah woah...</td>\n",
       "      <td>0.485417</td>\n",
       "      <td>0.126575</td>\n",
       "      <td>Positive</td>\n",
       "    </tr>\n",
       "    <tr>\n",
       "      <th>3</th>\n",
       "      <td>Wizkid</td>\n",
       "      <td>Essence</td>\n",
       "      <td>Made in Lagos</td>\n",
       "      <td>2020-10-29</td>\n",
       "      <td>wizkid ohh naa naa omo je ka shi ge ge woah oh...</td>\n",
       "      <td>0.590179</td>\n",
       "      <td>0.142411</td>\n",
       "      <td>Positive</td>\n",
       "    </tr>\n",
       "    <tr>\n",
       "      <th>4</th>\n",
       "      <td>Wizkid</td>\n",
       "      <td>Ginger</td>\n",
       "      <td>Made in Lagos</td>\n",
       "      <td>2020-10-29</td>\n",
       "      <td>chorus burna boy  wizkid if you want make i gi...</td>\n",
       "      <td>0.588972</td>\n",
       "      <td>0.249029</td>\n",
       "      <td>Positive</td>\n",
       "    </tr>\n",
       "  </tbody>\n",
       "</table>\n",
       "</div>"
      ],
      "text/plain": [
       "   artist        title                       album        year  \\\n",
       "0  Wizkid  Come Closer  Sounds from the Other Side  2017-03-31   \n",
       "1  Wizkid    Ojuelegba                   Ayọ (Joy)  2014-09-17   \n",
       "2  Wizkid      Blessed              Made in Lagos   2020-10-29   \n",
       "3  Wizkid      Essence              Made in Lagos   2020-10-29   \n",
       "4  Wizkid       Ginger              Made in Lagos   2020-10-29   \n",
       "\n",
       "                                              lyrics  subjectivity  polarity  \\\n",
       "0  drake  wizkid go outside big time forward heh ...      0.483529  0.138039   \n",
       "1  its legendury beatz yea yea yea yea wizzy baba...      0.505000  0.290000   \n",
       "2  cold mineral cold pure water  wizkid woah woah...      0.485417  0.126575   \n",
       "3  wizkid ohh naa naa omo je ka shi ge ge woah oh...      0.590179  0.142411   \n",
       "4  chorus burna boy  wizkid if you want make i gi...      0.588972  0.249029   \n",
       "\n",
       "  sentiment  \n",
       "0  Positive  \n",
       "1  Positive  \n",
       "2  Positive  \n",
       "3  Positive  \n",
       "4  Positive  "
      ]
     },
     "execution_count": 22,
     "metadata": {},
     "output_type": "execute_result"
    }
   ],
   "source": [
    "df_wizkid['sentiment'] = df_wizkid['polarity'].apply(get_text_analysis)\n",
    "df_wizkid.head()"
   ]
  },
  {
   "cell_type": "code",
   "execution_count": 23,
   "metadata": {},
   "outputs": [
    {
     "data": {
      "text/plain": [
       "album                       sentiment\n",
       "Ayọ (Joy)                   Positive     13\n",
       "                            Negative      3\n",
       "Made in Lagos               Positive     13\n",
       "                            Negative      1\n",
       "Sounds from the Other Side  Positive      8\n",
       "                            Negative      4\n",
       "Superstar                   Positive     11\n",
       "                            Negative      4\n",
       "Name: sentiment, dtype: int64"
      ]
     },
     "execution_count": 23,
     "metadata": {},
     "output_type": "execute_result"
    }
   ],
   "source": [
    "df_wizkid.groupby('album')['sentiment'].value_counts()#get sentiment value counts"
   ]
  },
  {
   "cell_type": "code",
   "execution_count": 24,
   "metadata": {},
   "outputs": [],
   "source": [
    "#create dataframe from artists albums and corresponding sentiment\n",
    "wiz_sentiment_data = pd.DataFrame({'album': ['Ayọ (Joy)', 'Made in Lagos', 'Sounds from the Other Side', 'Superstar'],\n",
    "                              'positive': [13, 13, 8, 11], 'negative': [3, 1, 4, 4]})\n",
    "wiz_sentiment_data = wiz_sentiment_data.set_index('album')"
   ]
  },
  {
   "cell_type": "code",
   "execution_count": 25,
   "metadata": {},
   "outputs": [],
   "source": [
    "#function to plot sentiment\n",
    "def plot_sentiment(df, artist_name, color):\n",
    "    df.plot(kind='bar', stacked=True, colormap=ListedColormap(sns.color_palette(color)), figsize=(12,8))\n",
    "    plt.xlabel('album', size=12)\n",
    "    plt.ylabel('sentiment_count', size=12)\n",
    "    plt.title(\"Sentiment Analysis of each {}s' Album\".format(artist_name), size=16)\n",
    "    plt.grid(b=None)\n",
    "    plt.legend()\n",
    "    plt.show()"
   ]
  },
  {
   "cell_type": "code",
   "execution_count": 26,
   "metadata": {},
   "outputs": [
    {
     "data": {
      "image/png": "[encoded data removed]",
      "text/plain": [
       "<Figure size 864x576 with 1 Axes>"
      ]
     },
     "metadata": {},
     "output_type": "display_data"
    }
   ],
   "source": [
    "plot_sentiment(wiz_sentiment_data, 'Wizkid', 'summer')"
   ]
  },
  {
   "cell_type": "code",
   "execution_count": 27,
   "metadata": {},
   "outputs": [],
   "source": [
    "#creating individual dataframes of albums\n",
    "df_superstar = df_wizkid.loc[(df_wizkid.album == 'Superstar')]\n",
    "df_made_in_lagos = df_wizkid.loc[(df_wizkid.album == 'Made in Lagos ')]\n",
    "df_sound = df_wizkid.loc[(df_wizkid.album == 'Sounds from the Other Side')]\n",
    "df_ayo = df_wizkid.loc[(df_wizkid.album == 'Ayọ (Joy)')]"
   ]
  },
  {
   "cell_type": "code",
   "execution_count": 28,
   "metadata": {},
   "outputs": [],
   "source": [
    "#creating lists of words in each album and getting word counts and lexical diversity\n",
    "Sounds_token = []\n",
    "Sounds_lyrics = df_sound['lyrics']\n",
    "Sounds_lyrics = Sounds_lyrics.apply(word_tokenize)\n",
    "for i in Sounds_lyrics:\n",
    "    for j in i:\n",
    "        Sounds_token.append(j)\n",
    "        \n",
    "\n",
    "sounds_word_count = len(Sounds_token)\n",
    "sounds_unique_word_count = len(set(Sounds_token))\n",
    "sounds_lexical_diversity = sounds_unique_word_count / float(sounds_word_count)\n",
    "\n",
    "superstar_token = []\n",
    "superstar_lyrics = df_superstar['lyrics']\n",
    "superstar_lyrics = superstar_lyrics.apply(word_tokenize)\n",
    "for i in superstar_lyrics:\n",
    "    for j in i:\n",
    "        superstar_token.append(j)\n",
    "        \n",
    "superstar_word_count = len(superstar_token)\n",
    "superstar_unique_word_count = len(set(superstar_token))\n",
    "superstar_lexical_diversity = superstar_unique_word_count / float(superstar_word_count)\n",
    "\n",
    "\n",
    "made_token = []\n",
    "made_lyrics = df_made_in_lagos['lyrics']\n",
    "made_lyrics = made_lyrics.apply(word_tokenize)\n",
    "for i in made_lyrics:\n",
    "    for j in i:\n",
    "        made_token.append(j)\n",
    "        \n",
    "made_word_count = len(made_token)\n",
    "made_unique_word_count = len(set(made_token))\n",
    "made_lexical_diversity = made_unique_word_count / float(made_word_count)\n",
    "\n",
    "\n",
    "ayo_token = []\n",
    "ayo_lyrics = df_ayo['lyrics']\n",
    "ayo_lyrics = ayo_lyrics.apply(word_tokenize)\n",
    "for i in ayo_lyrics:\n",
    "    for j in i:\n",
    "        ayo_token.append(j)\n",
    "        \n",
    "ayo_word_count = len(ayo_token)\n",
    "ayo_unique_word_count = len(set(ayo_token))\n",
    "ayo_lexical_diversity = ayo_unique_word_count / float(ayo_word_count)\n"
   ]
  },
  {
   "cell_type": "code",
   "execution_count": 29,
   "metadata": {},
   "outputs": [],
   "source": [
    "#creating new dataframe of albums and aggregated lyrics\n",
    "wiz_stats = df_wizkid.groupby(['album']).agg({'lyrics': ' '.join}, inplace=True)\n",
    "wiz_stats.reset_index(inplace=True)"
   ]
  },
  {
   "cell_type": "code",
   "execution_count": 30,
   "metadata": {},
   "outputs": [],
   "source": [
    "#adding values and columns to dataframe\n",
    "wiz_stats['word_count'] = [ayo_word_count, made_word_count, sounds_word_count, superstar_word_count]\n",
    "wiz_stats['unique_word_count'] = [ayo_unique_word_count, made_unique_word_count, sounds_unique_word_count, \n",
    "                                  superstar_unique_word_count]\n",
    "wiz_stats['lexical_diversity'] = [ayo_lexical_diversity, made_lexical_diversity, sounds_lexical_diversity, \n",
    "                                  superstar_lexical_diversity]\n",
    "wiz_stats['year_released'] = [2014, 2020, 2017, 2011]\n",
    "wiz_stats = wiz_stats.sort_values('year_released').reset_index().drop(columns=('index'))"
   ]
  },
  {
   "cell_type": "code",
   "execution_count": 31,
   "metadata": {},
   "outputs": [],
   "source": [
    "#function to plot statistics\n",
    "def plot_stats(df, artist_name):\n",
    "    fig = plt.figure(figsize=(12,8))\n",
    "    sns.lineplot(data = df, x = 'album', y = 'word_count', label='word_count', color = 'red')\n",
    "    sns.lineplot(data = df, x = 'album', y = 'unique_word_count', label='unique_word_count', color='green')\n",
    "    sns.lineplot(data = df, x = 'album', y = 'lexical_diversity', label = 'lexical_diversity', color='blue')\n",
    "    plt.grid(b=None)\n",
    "    plt.xlabel('albums', size=12)\n",
    "    plt.ylabel('album_stats', size=12)\n",
    "    plt.title(\"{}s' Album Lyrics Statistics\".format(artist_name), size=16)\n",
    "    plt.legend()\n",
    "    plt.show()"
   ]
  },
  {
   "cell_type": "code",
   "execution_count": 32,
   "metadata": {},
   "outputs": [
    {
     "data": {
      "image/png": "[encoded data removed]",
      "text/plain": [
       "<Figure size 864x576 with 1 Axes>"
      ]
     },
     "metadata": {},
     "output_type": "display_data"
    }
   ],
   "source": [
    "plot_stats(wiz_stats, 'Wizkid')"
   ]
  },
  {
   "cell_type": "code",
   "execution_count": 33,
   "metadata": {},
   "outputs": [
    {
     "name": "stdout",
     "output_type": "stream",
     "text": [
      "Searching for songs by Davido...\n",
      "\n",
      "Song 1: \"If\"\n",
      "Song 2: \"Fall\"\n",
      "Song 3: \"FIA\"\n",
      "Song 4: \"Holy Ground\"\n",
      "Song 5: \"FEM\"\n",
      "Song 6: \"Risky\"\n",
      "Song 7: \"Assurance\"\n",
      "Song 8: \"The Best\"\n",
      "Song 9: \"Jowo\"\n",
      "Song 10: \"Coolest Kid in Africa\"\n",
      "Song 11: \"Fans Mi\"\n",
      "Song 12: \"Sweet in the Middle\"\n",
      "Song 13: \"Pere\"\n",
      "Song 14: \"So Crazy\"\n",
      "Song 15: \"Flora My Flawa\"\n",
      "\"Juice Back (Remix)\" is not valid. Skipping.\n",
      "Song 16: \"D & G\"\n",
      "Song 17: \"Like Dat\"\n",
      "\"Odo (Remix)\" is not valid. Skipping.\n",
      "\"If (Remix)\" is not valid. Skipping.\n",
      "Song 18: \"Aye\"\n",
      "Song 19: \"Disturbance\"\n",
      "Song 20: \"Something Fishy\"\n",
      "Song 21: \"Shopping Spree\"\n",
      "Song 22: \"Dami Duro\"\n",
      "\"Gangsta (Remix)\" is not valid. Skipping.\n",
      "Song 23: \"How Long?\"\n",
      "Song 24: \"Tanana\"\n",
      "Song 25: \"La La\"\n",
      "Song 26: \"I Got a Friend\"\n",
      "Song 27: \"Fade\"\n",
      "Song 28: \"Wonder Woman\"\n",
      "Song 29: \"Intro\"\n",
      "Song 30: \"Very Special\"\n",
      "\"Know Your Worth (Remix)\" is not valid. Skipping.\n",
      "Song 31: \"1 Milli\"\n",
      "Song 32: \"Gbagbe Oshi\"\n",
      "Song 33: \"Heaven\"\n",
      "\"Woju (remix)\" is not valid. Skipping.\n",
      "\"Tattoo Remix\" is not valid. Skipping.\n",
      "\"Blessings REMIX\" is not valid. Skipping.\n",
      "Song 34: \"Big Picture\"\n",
      "Song 35: \"Mebe\"\n",
      "Song 36: \"Get To You\"\n",
      "\"FIA (Remix)\" is not valid. Skipping.\n",
      "Song 37: \"Birthday Cake\"\n",
      "\"Osinachi (Remix)\" is not valid. Skipping.\n",
      "Song 38: \"Animashaun\"\n",
      "Song 39: \"Sunlight\"\n",
      "Song 40: \"On My Way\"\n",
      "\"Monalisa Remix\" is not valid. Skipping.\n",
      "\"Number One Remix\" is not valid. Skipping.\n",
      "Song 41: \"Owo Ni Koko\"\n",
      "Song 42: \"Check Am\"\n",
      "Song 43: \"Maga 2 Mugu\"\n",
      "Song 44: \"One Thing\"\n",
      "Song 45: \"Gobe\"\n",
      "Song 46: \"Green Light Riddim\"\n",
      "Song 47: \"All Of You\"\n",
      "\"Freak of the Week (Afrobeats Remix)\" is not valid. Skipping.\n",
      "Song 48: \"Skelewu\"\n",
      "Song 49: \"Ekuro\"\n",
      "\"Zoom (Remix)\" is not valid. Skipping.\n",
      "Song 50: \"2020 Letter To You\"\n",
      "Song 51: \"Return\"\n",
      "Song 52: \"The Money\"\n",
      "\"Dream Girl (Global Remix)\" is not valid. Skipping.\n",
      "\"Wetin Dey (Remix)\" is not valid. Skipping.\n",
      "Song 53: \"The Sound\"\n",
      "Song 54: \"Company\"\n",
      "Song 55: \"Nwa Baby\"\n",
      "Song 56: \"Feel Alright\"\n",
      "Song 57: \"Back when (feat. naeto c)\"\n",
      "\"Zoom (Remix) ft. Wale x Davido\" is not valid. Skipping.\n",
      "Song 58: \"One of a Kind\"\n",
      "\"Number One - Remix\" is not valid. Skipping.\n",
      "Song 59: \"Tchelete\"\n",
      "\"Peace of Mind (Remix)\" is not valid. Skipping.\n",
      "Song 60: \"Dollars in the bank (feat. kay switch)\"\n",
      "Song 61: \"Naughty\"\n",
      "Song 62: \"Down\"\n",
      "Song 63: \"Enter the Center (feat. B-Red)\"\n",
      "Song 64: \"Video\"\n",
      "Song 65: \"Dodo\"\n",
      "Song 66: \"Wetin You Say?\"\n",
      "\"Jolie nana (Remix)\" is not valid. Skipping.\n",
      "Song 67: \"Bless me\"\n",
      "\"The Sound (Remix)\" is not valid. Skipping.\n",
      "Song 68: \"Gbon Gbon\"\n",
      "\"Shoki (Remix)\" is not valid. Skipping.\n",
      "\"Wonder Remix\" is not valid. Skipping.\n",
      "\"Lie for You (Frizzo Remix)\" is not valid. Skipping.\n",
      "Song 69: \"Africa Rising\"\n",
      "Song 70: \"For You\"\n",
      "Song 71: \"Mary Jane\"\n",
      "Couldn't find the lyrics section.\n",
      "Song 72: \"No Drama\"\n",
      "\"Shuperu (Remix)\" is not valid. Skipping.\n",
      "Song 73: \"Back When\"\n",
      "Song 74: \"Enter The Centre\"\n",
      "Song 75: \"Overseas\"\n",
      "Song 76: \"Ofili Gaga\"\n",
      "\"Indomie (Remix)\" is not valid. Skipping.\n",
      "Song 77: \"New skul tinz (feat. sinarambo & b-red)\"\n",
      "\"Ori Owo (Remix)\" is not valid. Skipping.\n",
      "Song 78: \"Supanatural\"\n",
      "Song 79: \"New Skul Tinz\"\n",
      "Song 80: \"Dollars In The Bank\"\n",
      "Song 81: \"No Visa\"\n",
      "Song 82: \"Nwaa Baby\"\n",
      "\"Wiggy wiggy remix\" is not valid. Skipping.\n",
      "Done. Found 82 songs.\n"
     ]
    }
   ],
   "source": [
    "artist = []\n",
    "title = []\n",
    "album = []\n",
    "year = []\n",
    "lyrics = []\n",
    "\n",
    "davido = genius.search_artist('Davido', per_page=50, sort='popularity', include_features=False)    \n",
    "for song in davido.songs:\n",
    "    artist.append(song.artist)\n",
    "    title.append(song.title)\n",
    "    album.append(song.album)\n",
    "    year.append(song.year)\n",
    "    lyrics.append(song.lyrics)"
   ]
  },
  {
   "cell_type": "code",
   "execution_count": 34,
   "metadata": {},
   "outputs": [
    {
     "data": {
      "text/html": [
       "<div>\n",
       "<style scoped>\n",
       "    .dataframe tbody tr th:only-of-type {\n",
       "        vertical-align: middle;\n",
       "    }\n",
       "\n",
       "    .dataframe tbody tr th {\n",
       "        vertical-align: top;\n",
       "    }\n",
       "\n",
       "    .dataframe thead th {\n",
       "        text-align: right;\n",
       "    }\n",
       "</style>\n",
       "<table border=\"1\" class=\"dataframe\">\n",
       "  <thead>\n",
       "    <tr style=\"text-align: right;\">\n",
       "      <th></th>\n",
       "      <th>artist</th>\n",
       "      <th>title</th>\n",
       "      <th>album</th>\n",
       "      <th>year</th>\n",
       "      <th>lyrics</th>\n",
       "    </tr>\n",
       "  </thead>\n",
       "  <tbody>\n",
       "    <tr>\n",
       "      <th>0</th>\n",
       "      <td>Davido</td>\n",
       "      <td>If</td>\n",
       "      <td>A Good Time</td>\n",
       "      <td>2017-02-17</td>\n",
       "      <td>[Intro]\\nMy money my body na your own\\n(It's O...</td>\n",
       "    </tr>\n",
       "    <tr>\n",
       "      <th>1</th>\n",
       "      <td>Davido</td>\n",
       "      <td>Fall</td>\n",
       "      <td>A Good Time</td>\n",
       "      <td>2017-06-02</td>\n",
       "      <td>[Intro]\\nIyeh-eeh!\\n\\n[Chorus]\\nMoney fall on ...</td>\n",
       "    </tr>\n",
       "    <tr>\n",
       "      <th>2</th>\n",
       "      <td>Davido</td>\n",
       "      <td>FIA</td>\n",
       "      <td>None</td>\n",
       "      <td>2017-11-10</td>\n",
       "      <td>[Intro]\\nFia ! Fia !\\n[Post-Chorus]\\nDab, make...</td>\n",
       "    </tr>\n",
       "    <tr>\n",
       "      <th>3</th>\n",
       "      <td>Davido</td>\n",
       "      <td>Holy Ground</td>\n",
       "      <td>A Better Time</td>\n",
       "      <td>2020-11-13</td>\n",
       "      <td>‪[Intro: Davido &amp; Nicki Minaj]\\nMy holy ground...</td>\n",
       "    </tr>\n",
       "    <tr>\n",
       "      <th>4</th>\n",
       "      <td>Davido</td>\n",
       "      <td>FEM</td>\n",
       "      <td>A Better Time</td>\n",
       "      <td>2020-09-11</td>\n",
       "      <td>[Intro]\\nNapji killing this one\\nPara\\nPara, a...</td>\n",
       "    </tr>\n",
       "  </tbody>\n",
       "</table>\n",
       "</div>"
      ],
      "text/plain": [
       "   artist        title          album        year  \\\n",
       "0  Davido           If   A Good Time   2017-02-17   \n",
       "1  Davido         Fall   A Good Time   2017-06-02   \n",
       "2  Davido          FIA           None  2017-11-10   \n",
       "3  Davido  Holy Ground  A Better Time  2020-11-13   \n",
       "4  Davido          FEM  A Better Time  2020-09-11   \n",
       "\n",
       "                                              lyrics  \n",
       "0  [Intro]\\nMy money my body na your own\\n(It's O...  \n",
       "1  [Intro]\\nIyeh-eeh!\\n\\n[Chorus]\\nMoney fall on ...  \n",
       "2  [Intro]\\nFia ! Fia !\\n[Post-Chorus]\\nDab, make...  \n",
       "3  ‪[Intro: Davido & Nicki Minaj]\\nMy holy ground...  \n",
       "4  [Intro]\\nNapji killing this one\\nPara\\nPara, a...  "
      ]
     },
     "execution_count": 34,
     "metadata": {},
     "output_type": "execute_result"
    }
   ],
   "source": [
    "df_davido = pd.DataFrame({'artist':artist, 'title':title, 'album':album, 'year':year, 'lyrics':lyrics})\n",
    "df_davido.head()"
   ]
  },
  {
   "cell_type": "code",
   "execution_count": 35,
   "metadata": {},
   "outputs": [],
   "source": [
    "df_davido = clean(df_davido, 'lyrics')"
   ]
  },
  {
   "cell_type": "code",
   "execution_count": 36,
   "metadata": {},
   "outputs": [],
   "source": [
    "df_davido.dropna(how='any', axis=0, subset=['album'], inplace=True)\n",
    "df_davido = df_davido[df_davido.album !='The Baddest']\n",
    "df_davido = df_davido[df_davido.title !='Skelewu']"
   ]
  },
  {
   "cell_type": "code",
   "execution_count": 37,
   "metadata": {},
   "outputs": [],
   "source": [
    "df_davido.reset_index(inplace=True)\n",
    "df_davido.drop(['index'], axis=1, inplace=True)"
   ]
  },
  {
   "cell_type": "code",
   "execution_count": 38,
   "metadata": {},
   "outputs": [],
   "source": [
    "dav_lyrics = df_davido['lyrics']\n",
    "dav_lyrics = dav_lyrics.apply(word_tokenize)"
   ]
  },
  {
   "cell_type": "code",
   "execution_count": 39,
   "metadata": {},
   "outputs": [],
   "source": [
    "dfiltered_words = []\n",
    "for i in dav_lyrics:\n",
    "    for j in i:\n",
    "        if j not in new_stopwords:\n",
    "            dfiltered_words.append(j)"
   ]
  },
  {
   "cell_type": "code",
   "execution_count": 40,
   "metadata": {},
   "outputs": [],
   "source": [
    "dav_top_words = Counter(dfiltered_words)"
   ]
  },
  {
   "cell_type": "code",
   "execution_count": 41,
   "metadata": {},
   "outputs": [],
   "source": [
    "Dav_Top_words = pd.DataFrame.from_dict(dav_top_words, orient='index').reset_index()\n",
    "Dav_Top_words = Dav_Top_words.rename(columns={'index':'Top words', 0:'Count'})\n",
    "Dav_Top_words.sort_values('Count', inplace = True)\n",
    "Dav_Top_words.reset_index(inplace=True)"
   ]
  },
  {
   "cell_type": "code",
   "execution_count": 42,
   "metadata": {},
   "outputs": [
    {
     "data": {
      "text/plain": [
       "(2247, 2)"
      ]
     },
     "execution_count": 42,
     "metadata": {},
     "output_type": "execute_result"
    }
   ],
   "source": [
    "Dav_Top_words.drop(['index'], axis=1, inplace=True)\n",
    "Dav_Top_words.shape"
   ]
  },
  {
   "cell_type": "code",
   "execution_count": 43,
   "metadata": {},
   "outputs": [],
   "source": [
    "Dav_Top_words.drop(Dav_Top_words.index[:2227], inplace=True)"
   ]
  },
  {
   "cell_type": "code",
   "execution_count": 44,
   "metadata": {},
   "outputs": [
    {
     "data": {
      "image/png": "[encoded data removed]",
      "text/plain": [
       "<Figure size 1152x576 with 1 Axes>"
      ]
     },
     "metadata": {},
     "output_type": "display_data"
    }
   ],
   "source": [
    "plot_words(Dav_Top_words, 'Davido', 'pastel')"
   ]
  },
  {
   "cell_type": "code",
   "execution_count": 45,
   "metadata": {},
   "outputs": [
    {
     "data": {
      "text/html": [
       "<div>\n",
       "<style scoped>\n",
       "    .dataframe tbody tr th:only-of-type {\n",
       "        vertical-align: middle;\n",
       "    }\n",
       "\n",
       "    .dataframe tbody tr th {\n",
       "        vertical-align: top;\n",
       "    }\n",
       "\n",
       "    .dataframe thead th {\n",
       "        text-align: right;\n",
       "    }\n",
       "</style>\n",
       "<table border=\"1\" class=\"dataframe\">\n",
       "  <thead>\n",
       "    <tr style=\"text-align: right;\">\n",
       "      <th></th>\n",
       "      <th>artist</th>\n",
       "      <th>title</th>\n",
       "      <th>album</th>\n",
       "      <th>year</th>\n",
       "      <th>lyrics</th>\n",
       "      <th>subjectivity</th>\n",
       "      <th>polarity</th>\n",
       "    </tr>\n",
       "  </thead>\n",
       "  <tbody>\n",
       "    <tr>\n",
       "      <th>0</th>\n",
       "      <td>Davido</td>\n",
       "      <td>If</td>\n",
       "      <td>A Good Time</td>\n",
       "      <td>2017-02-17</td>\n",
       "      <td>my money my body na your own its obo baddest  ...</td>\n",
       "      <td>0.548485</td>\n",
       "      <td>0.390909</td>\n",
       "    </tr>\n",
       "    <tr>\n",
       "      <th>1</th>\n",
       "      <td>Davido</td>\n",
       "      <td>Fall</td>\n",
       "      <td>A Good Time</td>\n",
       "      <td>2017-06-02</td>\n",
       "      <td>iyeheeh  chorus money fall on you banana fall ...</td>\n",
       "      <td>0.627273</td>\n",
       "      <td>0.231818</td>\n",
       "    </tr>\n",
       "    <tr>\n",
       "      <th>2</th>\n",
       "      <td>Davido</td>\n",
       "      <td>Holy Ground</td>\n",
       "      <td>A Better Time</td>\n",
       "      <td>2020-11-13</td>\n",
       "      <td>davido  nicki minaj my holy ground wey me i ru...</td>\n",
       "      <td>0.607639</td>\n",
       "      <td>-0.028472</td>\n",
       "    </tr>\n",
       "    <tr>\n",
       "      <th>3</th>\n",
       "      <td>Davido</td>\n",
       "      <td>FEM</td>\n",
       "      <td>A Better Time</td>\n",
       "      <td>2020-09-11</td>\n",
       "      <td>napji killing this one para para ahah  1 e be ...</td>\n",
       "      <td>0.462963</td>\n",
       "      <td>-0.021717</td>\n",
       "    </tr>\n",
       "    <tr>\n",
       "      <th>4</th>\n",
       "      <td>Davido</td>\n",
       "      <td>Risky</td>\n",
       "      <td>A Good Time</td>\n",
       "      <td>2019-10-23</td>\n",
       "      <td>popcaan risky risky yes yuh body risky risky w...</td>\n",
       "      <td>0.534133</td>\n",
       "      <td>0.106395</td>\n",
       "    </tr>\n",
       "  </tbody>\n",
       "</table>\n",
       "</div>"
      ],
      "text/plain": [
       "   artist        title          album        year  \\\n",
       "0  Davido           If   A Good Time   2017-02-17   \n",
       "1  Davido         Fall   A Good Time   2017-06-02   \n",
       "2  Davido  Holy Ground  A Better Time  2020-11-13   \n",
       "3  Davido          FEM  A Better Time  2020-09-11   \n",
       "4  Davido        Risky   A Good Time   2019-10-23   \n",
       "\n",
       "                                              lyrics  subjectivity  polarity  \n",
       "0  my money my body na your own its obo baddest  ...      0.548485  0.390909  \n",
       "1  iyeheeh  chorus money fall on you banana fall ...      0.627273  0.231818  \n",
       "2  davido  nicki minaj my holy ground wey me i ru...      0.607639 -0.028472  \n",
       "3  napji killing this one para para ahah  1 e be ...      0.462963 -0.021717  \n",
       "4  popcaan risky risky yes yuh body risky risky w...      0.534133  0.106395  "
      ]
     },
     "execution_count": 45,
     "metadata": {},
     "output_type": "execute_result"
    }
   ],
   "source": [
    "df_davido['subjectivity'] = df_davido['lyrics'].apply(getSubjectivity)\n",
    "df_davido['polarity'] = df_davido['lyrics'].apply(getPolarity)\n",
    "\n",
    "df_davido.head()"
   ]
  },
  {
   "cell_type": "code",
   "execution_count": 46,
   "metadata": {},
   "outputs": [
    {
     "data": {
      "text/html": [
       "<div>\n",
       "<style scoped>\n",
       "    .dataframe tbody tr th:only-of-type {\n",
       "        vertical-align: middle;\n",
       "    }\n",
       "\n",
       "    .dataframe tbody tr th {\n",
       "        vertical-align: top;\n",
       "    }\n",
       "\n",
       "    .dataframe thead th {\n",
       "        text-align: right;\n",
       "    }\n",
       "</style>\n",
       "<table border=\"1\" class=\"dataframe\">\n",
       "  <thead>\n",
       "    <tr style=\"text-align: right;\">\n",
       "      <th></th>\n",
       "      <th>artist</th>\n",
       "      <th>title</th>\n",
       "      <th>album</th>\n",
       "      <th>year</th>\n",
       "      <th>lyrics</th>\n",
       "      <th>subjectivity</th>\n",
       "      <th>polarity</th>\n",
       "      <th>sentiment</th>\n",
       "    </tr>\n",
       "  </thead>\n",
       "  <tbody>\n",
       "    <tr>\n",
       "      <th>0</th>\n",
       "      <td>Davido</td>\n",
       "      <td>If</td>\n",
       "      <td>A Good Time</td>\n",
       "      <td>2017-02-17</td>\n",
       "      <td>my money my body na your own its obo baddest  ...</td>\n",
       "      <td>0.548485</td>\n",
       "      <td>0.390909</td>\n",
       "      <td>Positive</td>\n",
       "    </tr>\n",
       "    <tr>\n",
       "      <th>1</th>\n",
       "      <td>Davido</td>\n",
       "      <td>Fall</td>\n",
       "      <td>A Good Time</td>\n",
       "      <td>2017-06-02</td>\n",
       "      <td>iyeheeh  chorus money fall on you banana fall ...</td>\n",
       "      <td>0.627273</td>\n",
       "      <td>0.231818</td>\n",
       "      <td>Positive</td>\n",
       "    </tr>\n",
       "    <tr>\n",
       "      <th>2</th>\n",
       "      <td>Davido</td>\n",
       "      <td>Holy Ground</td>\n",
       "      <td>A Better Time</td>\n",
       "      <td>2020-11-13</td>\n",
       "      <td>davido  nicki minaj my holy ground wey me i ru...</td>\n",
       "      <td>0.607639</td>\n",
       "      <td>-0.028472</td>\n",
       "      <td>Negative</td>\n",
       "    </tr>\n",
       "    <tr>\n",
       "      <th>3</th>\n",
       "      <td>Davido</td>\n",
       "      <td>FEM</td>\n",
       "      <td>A Better Time</td>\n",
       "      <td>2020-09-11</td>\n",
       "      <td>napji killing this one para para ahah  1 e be ...</td>\n",
       "      <td>0.462963</td>\n",
       "      <td>-0.021717</td>\n",
       "      <td>Negative</td>\n",
       "    </tr>\n",
       "    <tr>\n",
       "      <th>4</th>\n",
       "      <td>Davido</td>\n",
       "      <td>Risky</td>\n",
       "      <td>A Good Time</td>\n",
       "      <td>2019-10-23</td>\n",
       "      <td>popcaan risky risky yes yuh body risky risky w...</td>\n",
       "      <td>0.534133</td>\n",
       "      <td>0.106395</td>\n",
       "      <td>Positive</td>\n",
       "    </tr>\n",
       "  </tbody>\n",
       "</table>\n",
       "</div>"
      ],
      "text/plain": [
       "   artist        title          album        year  \\\n",
       "0  Davido           If   A Good Time   2017-02-17   \n",
       "1  Davido         Fall   A Good Time   2017-06-02   \n",
       "2  Davido  Holy Ground  A Better Time  2020-11-13   \n",
       "3  Davido          FEM  A Better Time  2020-09-11   \n",
       "4  Davido        Risky   A Good Time   2019-10-23   \n",
       "\n",
       "                                              lyrics  subjectivity  polarity  \\\n",
       "0  my money my body na your own its obo baddest  ...      0.548485  0.390909   \n",
       "1  iyeheeh  chorus money fall on you banana fall ...      0.627273  0.231818   \n",
       "2  davido  nicki minaj my holy ground wey me i ru...      0.607639 -0.028472   \n",
       "3  napji killing this one para para ahah  1 e be ...      0.462963 -0.021717   \n",
       "4  popcaan risky risky yes yuh body risky risky w...      0.534133  0.106395   \n",
       "\n",
       "  sentiment  \n",
       "0  Positive  \n",
       "1  Positive  \n",
       "2  Negative  \n",
       "3  Negative  \n",
       "4  Positive  "
      ]
     },
     "execution_count": 46,
     "metadata": {},
     "output_type": "execute_result"
    }
   ],
   "source": [
    "df_davido['sentiment'] = df_davido['polarity'].apply(get_text_analysis)\n",
    "df_davido.head()"
   ]
  },
  {
   "cell_type": "code",
   "execution_count": 47,
   "metadata": {},
   "outputs": [
    {
     "data": {
      "text/plain": [
       "album                        sentiment\n",
       "A Better Time                Positive     11\n",
       "                             Negative      6\n",
       "A Good Time                  Positive     10\n",
       "                             Negative      4\n",
       "                             Neutral       1\n",
       "Omo Baba Olowo: The Genesis  Negative      8\n",
       "                             Positive      8\n",
       "Son Of Mercy EP              Positive      3\n",
       "                             Negative      2\n",
       "Name: sentiment, dtype: int64"
      ]
     },
     "execution_count": 47,
     "metadata": {},
     "output_type": "execute_result"
    }
   ],
   "source": [
    "df_davido.groupby('album')['sentiment'].value_counts()"
   ]
  },
  {
   "cell_type": "code",
   "execution_count": 48,
   "metadata": {},
   "outputs": [],
   "source": [
    "dav_sentiment_data = pd.DataFrame({'album': ['A better time', 'A good time', 'OBO', 'Son of mercy EP'],\n",
    "                              'positive': [11, 10, 8, 3], 'neutral': [0, 1, 0, 0] ,'negative': [6, 4, 8, 2]})\n",
    "dav_sentiment_data = dav_sentiment_data.set_index('album')"
   ]
  },
  {
   "cell_type": "code",
   "execution_count": 49,
   "metadata": {},
   "outputs": [
    {
     "data": {
      "image/png": "[encoded data removed]",
      "text/plain": [
       "<Figure size 864x576 with 1 Axes>"
      ]
     },
     "metadata": {},
     "output_type": "display_data"
    }
   ],
   "source": [
    "plot_sentiment(dav_sentiment_data, 'Davido', 'Reds')"
   ]
  },
  {
   "cell_type": "code",
   "execution_count": 50,
   "metadata": {},
   "outputs": [],
   "source": [
    "df_better = df_davido.loc[(df_davido.album == 'A Better Time')]\n",
    "df_good = df_davido.loc[(df_davido.album == 'A Good Time ')]\n",
    "df_obo = df_davido.loc[(df_davido.album == 'Omo Baba Olowo: The Genesis')]\n",
    "df_mercy = df_davido.loc[(df_davido.album == 'Son Of Mercy EP')]"
   ]
  },
  {
   "cell_type": "code",
   "execution_count": 51,
   "metadata": {},
   "outputs": [],
   "source": [
    "better_token = []\n",
    "better_lyrics = df_better['lyrics']\n",
    "better_lyrics = better_lyrics.apply(word_tokenize)\n",
    "for i in better_lyrics:\n",
    "    for j in i:\n",
    "        better_token.append(j)\n",
    "        \n",
    "better_word_count = len(better_token)\n",
    "better_unique_word_count = len(set(better_token))\n",
    "better_lexical_diversity = better_unique_word_count / float(better_word_count)\n",
    "\n",
    "\n",
    "good_token = []\n",
    "good_lyrics = df_good['lyrics']\n",
    "good_lyrics = good_lyrics.apply(word_tokenize)\n",
    "for i in good_lyrics:\n",
    "    for j in i:\n",
    "        good_token.append(j)\n",
    "        \n",
    "good_word_count = len(good_token)\n",
    "good_unique_word_count = len(set(good_token))\n",
    "good_lexical_diversity = good_unique_word_count / float(good_word_count)\n",
    "\n",
    "\n",
    "\n",
    "obo_token = []\n",
    "obo_lyrics = df_obo['lyrics']\n",
    "obo_lyrics = obo_lyrics.apply(word_tokenize)\n",
    "for i in obo_lyrics:\n",
    "    for j in i:\n",
    "        obo_token.append(j)\n",
    "        \n",
    "obo_word_count = len(obo_token)\n",
    "obo_unique_word_count = len(set(obo_token))\n",
    "obo_lexical_diversity = obo_unique_word_count / float(obo_word_count)\n",
    "\n",
    "\n",
    "mercy_token = []\n",
    "mercy_lyrics = df_mercy['lyrics']\n",
    "mercy_lyrics = mercy_lyrics.apply(word_tokenize)\n",
    "for i in mercy_lyrics:\n",
    "    for j in i:\n",
    "        mercy_token.append(j)\n",
    "        \n",
    "mercy_word_count = len(mercy_token)\n",
    "mercy_unique_word_count = len(set(mercy_token))\n",
    "mercy_lexical_diversity = mercy_unique_word_count / float(mercy_word_count)\n"
   ]
  },
  {
   "cell_type": "code",
   "execution_count": 52,
   "metadata": {},
   "outputs": [],
   "source": [
    "dav_stats = df_davido.groupby(['album']).agg({'lyrics': ' '.join}, inplace=True)\n",
    "dav_stats.reset_index(inplace=True)"
   ]
  },
  {
   "cell_type": "code",
   "execution_count": 53,
   "metadata": {},
   "outputs": [],
   "source": [
    "dav_stats['word_count'] = [better_word_count, good_word_count, obo_word_count, mercy_word_count]\n",
    "dav_stats['unique_word_count'] = [better_unique_word_count, good_unique_word_count, obo_unique_word_count, \n",
    "                                  mercy_unique_word_count]\n",
    "dav_stats['lexical_diversity'] = [better_lexical_diversity, good_lexical_diversity, obo_lexical_diversity, \n",
    "                                  mercy_lexical_diversity]\n",
    "dav_stats['year_released'] = [2020, 2019, 2012, 2016]\n",
    "dav_stats = dav_stats.sort_values('year_released').reset_index().drop(columns=('index'))\n",
    "dav_stats.drop(['lyrics'], axis=1, inplace=True)"
   ]
  },
  {
   "cell_type": "code",
   "execution_count": 54,
   "metadata": {},
   "outputs": [
    {
     "data": {
      "image/png": "[encoded data removed]",
      "text/plain": [
       "<Figure size 864x576 with 1 Axes>"
      ]
     },
     "metadata": {},
     "output_type": "display_data"
    }
   ],
   "source": [
    "plot_stats(dav_stats, 'Davido')"
   ]
  },
  {
   "cell_type": "code",
   "execution_count": 55,
   "metadata": {},
   "outputs": [
    {
     "name": "stdout",
     "output_type": "stream",
     "text": [
      "Searching for songs by Burna boy...\n",
      "\n",
      "Changing artist name to 'Burna Boy'\n",
      "Song 1: \"Ye\"\n",
      "Song 2: \"On the Low\"\n",
      "Song 3: \"JA ARA E\"\n",
      "Song 4: \"23\"\n",
      "Song 5: \"Anybody\"\n",
      "Song 6: \"Real Life\"\n",
      "Song 7: \"Monsters You Made\"\n",
      "Song 8: \"Gbona\"\n",
      "Song 9: \"Gum Body\"\n",
      "Song 10: \"Way Too Big\"\n",
      "Song 11: \"Bank on It\"\n",
      "Song 12: \"Level Up (Twice as Tall)\"\n",
      "Song 13: \"Pree Me\"\n",
      "\"Jerusalema Remix\" is not valid. Skipping.\n",
      "Song 14: \"Dangote\"\n",
      "Song 15: \"Wonderful\"\n",
      "Song 16: \"No Fit Vex\"\n",
      "Song 17: \"Collateral Damage\"\n",
      "Song 18: \"Time Flies\"\n",
      "\"Enjoy Yourself (Remix)\" is not valid. Skipping.\n",
      "Song 19: \"Wettin Dey Sup\"\n",
      "Song 20: \"Pull Up\"\n",
      "Song 21: \"African Giant\"\n",
      "Song 22: \"Secret\"\n",
      "Song 23: \"Wetin Man Go Do\"\n",
      "Song 24: \"Heaven’s Gate\"\n",
      "Song 25: \"Sekkle Down\"\n",
      "Song 26: \"Onyeka (Baby)\"\n",
      "Song 27: \"Omo\"\n",
      "Song 28: \"Bebo\"\n",
      "Song 29: \"Alarm Clock\"\n",
      "Song 30: \"Another Story\"\n",
      "Song 31: \"Like To Party\"\n",
      "Song 32: \"Different\"\n",
      "Song 33: \"Naughty by Nature\"\n",
      "Song 34: \"Deja Vu\"\n",
      "Song 35: \"Soke\"\n",
      "Song 36: \"Comma\"\n",
      "Song 37: \"Rock Your Body\"\n",
      "Song 38: \"Spiritual\"\n",
      "Song 39: \"Calm Down\"\n",
      "Song 40: \"20 10 20\"\n",
      "Song 41: \"Streets of Africa\"\n",
      "Song 42: \"Hallelujah\"\n",
      "Song 43: \"Devil In California\"\n",
      "Song 44: \"Giddem\"\n",
      "Song 45: \"Tonight\"\n",
      "Song 46: \"Agbada\"\n",
      "Song 47: \"Destiny\"\n",
      "Song 48: \"Gettin’ Money\"\n",
      "Song 49: \"More Life\"\n",
      "Song 50: \"Smoke Some Weed\"\n",
      "Song 51: \"Outside\"\n",
      "Song 52: \"This Side\"\n",
      "Song 53: \"Show & Tell\"\n",
      "\"Lenu (Remix)\" is not valid. Skipping.\n",
      "Song 54: \"Odogwu\"\n",
      "Song 55: \"Freedom\"\n",
      "Song 56: \"#yawadey\"\n",
      "\"Finders Keepers (Remix)\" is not valid. Skipping.\n",
      "Song 57: \"Where I’m From\"\n",
      "Song 58: \"Koni Baje\"\n",
      "Song 59: \"PH City Vibration\"\n",
      "Song 60: \"Money Play\"\n",
      "Song 61: \"Body to Body #Ycd\"\n",
      "Song 62: \"Don Gorgon\"\n",
      "Song 63: \"Run My Race\"\n",
      "Song 64: \"City Vibration\"\n",
      "\"Blak Ryno (Skit)\" is not valid. Skipping.\n",
      "Song 65: \"Check And Balance\"\n",
      "\"Own It [Sho Madjozi Remix]\" is not valid. Skipping.\n",
      "Song 66: \"We On\"\n",
      "\"Hey Boy (Remix)\" is not valid. Skipping.\n",
      "Song 67: \"Boshe Nlo\"\n",
      "Song 68: \"My Money, My Baby\"\n",
      "Song 69: \"Mandem Anthem\"\n",
      "Song 70: \"Bark\"\n",
      "Song 71: \"Outro: Remember Me\"\n",
      "Song 72: \"Work (Freestyle)\"\n",
      "Song 73: \"Dem No Know\"\n",
      "Song 74: \"Smooth sailing\"\n",
      "Song 75: \"Killin Dem\"\n",
      "Song 76: \"Fa So LaTi Do\"\n",
      "Couldn't find the lyrics section.\n",
      "Song 77: \"Behind Barz\"\n",
      "\"Little Bit More (Remix)\" is not valid. Skipping.\n",
      "Song 78: \"Always love you\"\n",
      "\"Issa Vibe  (REMIX)\" is not valid. Skipping.\n",
      "Song 79: \"Na so e suppose be\"\n",
      "Song 80: \"Mary Jane\"\n",
      "Song 81: \"Say so\"\n",
      "Song 82: \"No the low\"\n",
      "\"Abeg Abeg (Remix)\" is not valid. Skipping.\n",
      "\"Heavy Is The Head Medley / Anybody (Live at the BRITs 2020)\" is not valid. Skipping.\n",
      "\"Own It (Toddla T Remix)\" is not valid. Skipping.\n",
      "Song 83: \"Gba\"\n",
      "\"Own It (Remix)\" is not valid. Skipping.\n",
      "Song 84: \"Jahs Love Is True\"\n",
      "Song 85: \"Guilty\"\n",
      "Song 86: \"Acting Bad\"\n",
      "Song 87: \"Follow Me\"\n",
      "Couldn't find the lyrics section.\n",
      "Couldn't find the lyrics section.\n",
      "\"Simmer (Majestic Remix)\" is not valid. Skipping.\n",
      "\"Koma Roll (Remix)\" is not valid. Skipping.\n",
      "\"Soke (Remix)\" is not valid. Skipping.\n",
      "\"No Option (KIYA Remix)\" is not valid. Skipping.\n",
      "Couldn't find the lyrics section.\n",
      "\"Simmer (iLL BLU Remix)\" is not valid. Skipping.\n",
      "Song 88: \"Omo explicit\"\n",
      "Song 89: \"Agbadas\"\n",
      "Done. Found 89 songs.\n"
     ]
    }
   ],
   "source": [
    "artist = []\n",
    "title = []\n",
    "album = []\n",
    "year = []\n",
    "lyrics = []\n",
    "\n",
    "burnaboy = genius.search_artist('Burna boy', per_page=50, sort='popularity', include_features=False)    \n",
    "for song in burnaboy.songs:\n",
    "    artist.append(song.artist)\n",
    "    title.append(song.title)\n",
    "    album.append(song.album)\n",
    "    year.append(song.year)\n",
    "    lyrics.append(song.lyrics)   "
   ]
  },
  {
   "cell_type": "code",
   "execution_count": 56,
   "metadata": {},
   "outputs": [
    {
     "data": {
      "text/html": [
       "<div>\n",
       "<style scoped>\n",
       "    .dataframe tbody tr th:only-of-type {\n",
       "        vertical-align: middle;\n",
       "    }\n",
       "\n",
       "    .dataframe tbody tr th {\n",
       "        vertical-align: top;\n",
       "    }\n",
       "\n",
       "    .dataframe thead th {\n",
       "        text-align: right;\n",
       "    }\n",
       "</style>\n",
       "<table border=\"1\" class=\"dataframe\">\n",
       "  <thead>\n",
       "    <tr style=\"text-align: right;\">\n",
       "      <th></th>\n",
       "      <th>artist</th>\n",
       "      <th>title</th>\n",
       "      <th>album</th>\n",
       "      <th>year</th>\n",
       "      <th>lyrics</th>\n",
       "    </tr>\n",
       "  </thead>\n",
       "  <tbody>\n",
       "    <tr>\n",
       "      <th>0</th>\n",
       "      <td>Burna Boy</td>\n",
       "      <td>Ye</td>\n",
       "      <td>Outside</td>\n",
       "      <td>2018-01-26</td>\n",
       "      <td>[Intro]\\nYeah\\nMy nigga... die for nothing, ah...</td>\n",
       "    </tr>\n",
       "    <tr>\n",
       "      <th>1</th>\n",
       "      <td>Burna Boy</td>\n",
       "      <td>On the Low</td>\n",
       "      <td>African Giant</td>\n",
       "      <td>2018-11-16</td>\n",
       "      <td>[Intro]\\nIt's Kel P vibes\\nYeah, yeah\\nKpokpot...</td>\n",
       "    </tr>\n",
       "    <tr>\n",
       "      <th>2</th>\n",
       "      <td>Burna Boy</td>\n",
       "      <td>JA ARA E</td>\n",
       "      <td>The Lion King: The Gift</td>\n",
       "      <td>2019-07-19</td>\n",
       "      <td>[Intro]\\n(Ehe) Ko juba, ko juba\\n(Ehe) Ko juba...</td>\n",
       "    </tr>\n",
       "    <tr>\n",
       "      <th>3</th>\n",
       "      <td>Burna Boy</td>\n",
       "      <td>23</td>\n",
       "      <td>Twice as Tall</td>\n",
       "      <td>2020-08-13</td>\n",
       "      <td>[Intro]\\nThe music make me feel I be Jordan\\nN...</td>\n",
       "    </tr>\n",
       "    <tr>\n",
       "      <th>4</th>\n",
       "      <td>Burna Boy</td>\n",
       "      <td>Anybody</td>\n",
       "      <td>African Giant</td>\n",
       "      <td>2019-06-14</td>\n",
       "      <td>[Intro]\\nEheeenn, Ehennnn\\nGbese\\nEhennn, Ehen...</td>\n",
       "    </tr>\n",
       "  </tbody>\n",
       "</table>\n",
       "</div>"
      ],
      "text/plain": [
       "      artist       title                    album        year  \\\n",
       "0  Burna Boy          Ye                  Outside  2018-01-26   \n",
       "1  Burna Boy  On the Low            African Giant  2018-11-16   \n",
       "2  Burna Boy    JA ARA E  The Lion King: The Gift  2019-07-19   \n",
       "3  Burna Boy          23            Twice as Tall  2020-08-13   \n",
       "4  Burna Boy     Anybody            African Giant  2019-06-14   \n",
       "\n",
       "                                              lyrics  \n",
       "0  [Intro]\\nYeah\\nMy nigga... die for nothing, ah...  \n",
       "1  [Intro]\\nIt's Kel P vibes\\nYeah, yeah\\nKpokpot...  \n",
       "2  [Intro]\\n(Ehe) Ko juba, ko juba\\n(Ehe) Ko juba...  \n",
       "3  [Intro]\\nThe music make me feel I be Jordan\\nN...  \n",
       "4  [Intro]\\nEheeenn, Ehennnn\\nGbese\\nEhennn, Ehen...  "
      ]
     },
     "execution_count": 56,
     "metadata": {},
     "output_type": "execute_result"
    }
   ],
   "source": [
    "df_burna = pd.DataFrame({'artist':artist, 'title':title, 'album':album, 'year':year, 'lyrics':lyrics})\n",
    "df_burna.head()"
   ]
  },
  {
   "cell_type": "code",
   "execution_count": 57,
   "metadata": {},
   "outputs": [],
   "source": [
    "df_burna= clean(df_burna, 'lyrics')"
   ]
  },
  {
   "cell_type": "code",
   "execution_count": 58,
   "metadata": {},
   "outputs": [],
   "source": [
    "df_burna.loc[74, 'album'] = 'African Giant'"
   ]
  },
  {
   "cell_type": "code",
   "execution_count": 59,
   "metadata": {},
   "outputs": [],
   "source": [
    "df_burna.drop(df_burna.index[[2, 41, 60, 67]], inplace=True)"
   ]
  },
  {
   "cell_type": "code",
   "execution_count": 60,
   "metadata": {},
   "outputs": [],
   "source": [
    "df_burna.dropna(how='any', axis=0, subset=['album'], inplace=True)"
   ]
  },
  {
   "cell_type": "code",
   "execution_count": 61,
   "metadata": {},
   "outputs": [],
   "source": [
    "df_burna = df_burna[df_burna.album !='On a Spaceship']"
   ]
  },
  {
   "cell_type": "code",
   "execution_count": 62,
   "metadata": {},
   "outputs": [],
   "source": [
    "df_burna.reset_index(inplace=True)\n",
    "df_burna.drop(['index'], axis=1, inplace=True)"
   ]
  },
  {
   "cell_type": "code",
   "execution_count": 63,
   "metadata": {},
   "outputs": [],
   "source": [
    "bur_lyrics = df_burna['lyrics']\n",
    "bur_lyrics = bur_lyrics.apply(word_tokenize)"
   ]
  },
  {
   "cell_type": "code",
   "execution_count": 64,
   "metadata": {},
   "outputs": [],
   "source": [
    "bfiltered_words = []\n",
    "for i in bur_lyrics:\n",
    "    for j in i:\n",
    "        if j not in new_stopwords:\n",
    "            bfiltered_words.append(j)"
   ]
  },
  {
   "cell_type": "code",
   "execution_count": 65,
   "metadata": {},
   "outputs": [],
   "source": [
    "bur_top_words = Counter(bfiltered_words)"
   ]
  },
  {
   "cell_type": "code",
   "execution_count": 66,
   "metadata": {},
   "outputs": [],
   "source": [
    "Bur_Top_words = pd.DataFrame.from_dict(bur_top_words, orient='index').reset_index()\n",
    "Bur_Top_words = Bur_Top_words.rename(columns={'index':'Top words', 0:'Count'})\n",
    "Bur_Top_words.sort_values('Count', inplace = True)\n",
    "Bur_Top_words.reset_index(inplace=True)"
   ]
  },
  {
   "cell_type": "code",
   "execution_count": 67,
   "metadata": {},
   "outputs": [],
   "source": [
    "Bur_Top_words.drop(['index'], axis=1, inplace=True)"
   ]
  },
  {
   "cell_type": "code",
   "execution_count": 68,
   "metadata": {},
   "outputs": [
    {
     "data": {
      "text/plain": [
       "(2858, 2)"
      ]
     },
     "execution_count": 68,
     "metadata": {},
     "output_type": "execute_result"
    }
   ],
   "source": [
    "Bur_Top_words.shape"
   ]
  },
  {
   "cell_type": "code",
   "execution_count": 69,
   "metadata": {},
   "outputs": [],
   "source": [
    "Bur_Top_words.drop(Bur_Top_words.index[:2838], inplace=True)"
   ]
  },
  {
   "cell_type": "code",
   "execution_count": 70,
   "metadata": {},
   "outputs": [
    {
     "data": {
      "image/png": "[encoded data removed]",
      "text/plain": [
       "<Figure size 1152x576 with 1 Axes>"
      ]
     },
     "metadata": {},
     "output_type": "display_data"
    }
   ],
   "source": [
    "plot_words(Bur_Top_words, 'Burna boy', 'husl')"
   ]
  },
  {
   "cell_type": "code",
   "execution_count": 71,
   "metadata": {},
   "outputs": [
    {
     "data": {
      "text/html": [
       "<div>\n",
       "<style scoped>\n",
       "    .dataframe tbody tr th:only-of-type {\n",
       "        vertical-align: middle;\n",
       "    }\n",
       "\n",
       "    .dataframe tbody tr th {\n",
       "        vertical-align: top;\n",
       "    }\n",
       "\n",
       "    .dataframe thead th {\n",
       "        text-align: right;\n",
       "    }\n",
       "</style>\n",
       "<table border=\"1\" class=\"dataframe\">\n",
       "  <thead>\n",
       "    <tr style=\"text-align: right;\">\n",
       "      <th></th>\n",
       "      <th>artist</th>\n",
       "      <th>title</th>\n",
       "      <th>album</th>\n",
       "      <th>year</th>\n",
       "      <th>lyrics</th>\n",
       "      <th>subjectivity</th>\n",
       "      <th>polarity</th>\n",
       "    </tr>\n",
       "  </thead>\n",
       "  <tbody>\n",
       "    <tr>\n",
       "      <th>0</th>\n",
       "      <td>Burna Boy</td>\n",
       "      <td>Ye</td>\n",
       "      <td>Outside</td>\n",
       "      <td>2018-01-26</td>\n",
       "      <td>yeah my nigga die for nothing ah my nigga die ...</td>\n",
       "      <td>0.480808</td>\n",
       "      <td>0.027273</td>\n",
       "    </tr>\n",
       "    <tr>\n",
       "      <th>1</th>\n",
       "      <td>Burna Boy</td>\n",
       "      <td>On the Low</td>\n",
       "      <td>African Giant</td>\n",
       "      <td>2018-11-16</td>\n",
       "      <td>its kel p vibes yeah yeah kpokpotikpo kpo kpo ...</td>\n",
       "      <td>0.440250</td>\n",
       "      <td>0.153500</td>\n",
       "    </tr>\n",
       "    <tr>\n",
       "      <th>2</th>\n",
       "      <td>Burna Boy</td>\n",
       "      <td>23</td>\n",
       "      <td>Twice as Tall</td>\n",
       "      <td>2020-08-13</td>\n",
       "      <td>the music make me feel i be jordan now i under...</td>\n",
       "      <td>0.654545</td>\n",
       "      <td>0.140909</td>\n",
       "    </tr>\n",
       "    <tr>\n",
       "      <th>3</th>\n",
       "      <td>Burna Boy</td>\n",
       "      <td>Anybody</td>\n",
       "      <td>African Giant</td>\n",
       "      <td>2019-06-14</td>\n",
       "      <td>eheeenn ehennnn gbese ehennn ehennn  1 i don c...</td>\n",
       "      <td>0.428571</td>\n",
       "      <td>0.232857</td>\n",
       "    </tr>\n",
       "    <tr>\n",
       "      <th>4</th>\n",
       "      <td>Burna Boy</td>\n",
       "      <td>Real Life</td>\n",
       "      <td>Twice as Tall</td>\n",
       "      <td>2020-08-13</td>\n",
       "      <td>diddy it aint like you hearing it and its like...</td>\n",
       "      <td>0.450087</td>\n",
       "      <td>0.159566</td>\n",
       "    </tr>\n",
       "  </tbody>\n",
       "</table>\n",
       "</div>"
      ],
      "text/plain": [
       "      artist       title          album        year  \\\n",
       "0  Burna Boy          Ye        Outside  2018-01-26   \n",
       "1  Burna Boy  On the Low  African Giant  2018-11-16   \n",
       "2  Burna Boy          23  Twice as Tall  2020-08-13   \n",
       "3  Burna Boy     Anybody  African Giant  2019-06-14   \n",
       "4  Burna Boy   Real Life  Twice as Tall  2020-08-13   \n",
       "\n",
       "                                              lyrics  subjectivity  polarity  \n",
       "0  yeah my nigga die for nothing ah my nigga die ...      0.480808  0.027273  \n",
       "1  its kel p vibes yeah yeah kpokpotikpo kpo kpo ...      0.440250  0.153500  \n",
       "2  the music make me feel i be jordan now i under...      0.654545  0.140909  \n",
       "3  eheeenn ehennnn gbese ehennn ehennn  1 i don c...      0.428571  0.232857  \n",
       "4  diddy it aint like you hearing it and its like...      0.450087  0.159566  "
      ]
     },
     "execution_count": 71,
     "metadata": {},
     "output_type": "execute_result"
    }
   ],
   "source": [
    "df_burna['subjectivity'] = df_burna['lyrics'].apply(getSubjectivity)\n",
    "df_burna['polarity'] = df_burna['lyrics'].apply(getPolarity)\n",
    "\n",
    "df_burna.head()"
   ]
  },
  {
   "cell_type": "code",
   "execution_count": 72,
   "metadata": {},
   "outputs": [
    {
     "data": {
      "text/html": [
       "<div>\n",
       "<style scoped>\n",
       "    .dataframe tbody tr th:only-of-type {\n",
       "        vertical-align: middle;\n",
       "    }\n",
       "\n",
       "    .dataframe tbody tr th {\n",
       "        vertical-align: top;\n",
       "    }\n",
       "\n",
       "    .dataframe thead th {\n",
       "        text-align: right;\n",
       "    }\n",
       "</style>\n",
       "<table border=\"1\" class=\"dataframe\">\n",
       "  <thead>\n",
       "    <tr style=\"text-align: right;\">\n",
       "      <th></th>\n",
       "      <th>artist</th>\n",
       "      <th>title</th>\n",
       "      <th>album</th>\n",
       "      <th>year</th>\n",
       "      <th>lyrics</th>\n",
       "      <th>subjectivity</th>\n",
       "      <th>polarity</th>\n",
       "      <th>sentiment</th>\n",
       "    </tr>\n",
       "  </thead>\n",
       "  <tbody>\n",
       "    <tr>\n",
       "      <th>0</th>\n",
       "      <td>Burna Boy</td>\n",
       "      <td>Ye</td>\n",
       "      <td>Outside</td>\n",
       "      <td>2018-01-26</td>\n",
       "      <td>yeah my nigga die for nothing ah my nigga die ...</td>\n",
       "      <td>0.480808</td>\n",
       "      <td>0.027273</td>\n",
       "      <td>Positive</td>\n",
       "    </tr>\n",
       "    <tr>\n",
       "      <th>1</th>\n",
       "      <td>Burna Boy</td>\n",
       "      <td>On the Low</td>\n",
       "      <td>African Giant</td>\n",
       "      <td>2018-11-16</td>\n",
       "      <td>its kel p vibes yeah yeah kpokpotikpo kpo kpo ...</td>\n",
       "      <td>0.440250</td>\n",
       "      <td>0.153500</td>\n",
       "      <td>Positive</td>\n",
       "    </tr>\n",
       "    <tr>\n",
       "      <th>2</th>\n",
       "      <td>Burna Boy</td>\n",
       "      <td>23</td>\n",
       "      <td>Twice as Tall</td>\n",
       "      <td>2020-08-13</td>\n",
       "      <td>the music make me feel i be jordan now i under...</td>\n",
       "      <td>0.654545</td>\n",
       "      <td>0.140909</td>\n",
       "      <td>Positive</td>\n",
       "    </tr>\n",
       "    <tr>\n",
       "      <th>3</th>\n",
       "      <td>Burna Boy</td>\n",
       "      <td>Anybody</td>\n",
       "      <td>African Giant</td>\n",
       "      <td>2019-06-14</td>\n",
       "      <td>eheeenn ehennnn gbese ehennn ehennn  1 i don c...</td>\n",
       "      <td>0.428571</td>\n",
       "      <td>0.232857</td>\n",
       "      <td>Positive</td>\n",
       "    </tr>\n",
       "    <tr>\n",
       "      <th>4</th>\n",
       "      <td>Burna Boy</td>\n",
       "      <td>Real Life</td>\n",
       "      <td>Twice as Tall</td>\n",
       "      <td>2020-08-13</td>\n",
       "      <td>diddy it aint like you hearing it and its like...</td>\n",
       "      <td>0.450087</td>\n",
       "      <td>0.159566</td>\n",
       "      <td>Positive</td>\n",
       "    </tr>\n",
       "  </tbody>\n",
       "</table>\n",
       "</div>"
      ],
      "text/plain": [
       "      artist       title          album        year  \\\n",
       "0  Burna Boy          Ye        Outside  2018-01-26   \n",
       "1  Burna Boy  On the Low  African Giant  2018-11-16   \n",
       "2  Burna Boy          23  Twice as Tall  2020-08-13   \n",
       "3  Burna Boy     Anybody  African Giant  2019-06-14   \n",
       "4  Burna Boy   Real Life  Twice as Tall  2020-08-13   \n",
       "\n",
       "                                              lyrics  subjectivity  polarity  \\\n",
       "0  yeah my nigga die for nothing ah my nigga die ...      0.480808  0.027273   \n",
       "1  its kel p vibes yeah yeah kpokpotikpo kpo kpo ...      0.440250  0.153500   \n",
       "2  the music make me feel i be jordan now i under...      0.654545  0.140909   \n",
       "3  eheeenn ehennnn gbese ehennn ehennn  1 i don c...      0.428571  0.232857   \n",
       "4  diddy it aint like you hearing it and its like...      0.450087  0.159566   \n",
       "\n",
       "  sentiment  \n",
       "0  Positive  \n",
       "1  Positive  \n",
       "2  Positive  \n",
       "3  Positive  \n",
       "4  Positive  "
      ]
     },
     "execution_count": 72,
     "metadata": {},
     "output_type": "execute_result"
    }
   ],
   "source": [
    "df_burna['sentiment'] = df_burna['polarity'].apply(get_text_analysis)\n",
    "df_burna.head()"
   ]
  },
  {
   "cell_type": "code",
   "execution_count": 73,
   "metadata": {},
   "outputs": [
    {
     "data": {
      "text/plain": [
       "album          sentiment\n",
       "African Giant  Positive     13\n",
       "               Negative      5\n",
       "L.I.F.E        Positive     11\n",
       "               Negative      1\n",
       "Outside        Positive     10\n",
       "               Negative      4\n",
       "Redemption     Positive      4\n",
       "               Negative      1\n",
       "Twice as Tall  Positive     11\n",
       "               Negative      4\n",
       "Name: sentiment, dtype: int64"
      ]
     },
     "execution_count": 73,
     "metadata": {},
     "output_type": "execute_result"
    }
   ],
   "source": [
    "df_burna.groupby('album')['sentiment'].value_counts()"
   ]
  },
  {
   "cell_type": "code",
   "execution_count": 74,
   "metadata": {},
   "outputs": [],
   "source": [
    "bur_sentiment_data = pd.DataFrame({'album': ['African Giant', 'L.I.F.E', 'Outside', 'Redemption', 'Twice as Tall'],\n",
    "                              'positive': [13, 11, 10, 4, 11], 'negative': [5, 1, 4, 1, 4]})\n",
    "bur_sentiment_data = bur_sentiment_data.set_index('album')"
   ]
  },
  {
   "cell_type": "code",
   "execution_count": 75,
   "metadata": {},
   "outputs": [
    {
     "data": {
      "image/png": "[encoded data removed]",
      "text/plain": [
       "<Figure size 864x576 with 1 Axes>"
      ]
     },
     "metadata": {},
     "output_type": "display_data"
    }
   ],
   "source": [
    "plot_sentiment(bur_sentiment_data, 'Burna boy', 'rocket')"
   ]
  },
  {
   "cell_type": "code",
   "execution_count": 76,
   "metadata": {},
   "outputs": [],
   "source": [
    "df_outside = df_burna.loc[(df_burna.album == 'Outside')]\n",
    "df_african = df_burna.loc[(df_burna.album == 'African Giant')]\n",
    "df_twice = df_burna.loc[(df_burna.album == 'Twice as Tall')]\n",
    "df_redemption = df_burna.loc[(df_burna.album == 'Redemption')]\n",
    "df_life = df_burna.loc[(df_burna.album == 'L.I.F.E')]"
   ]
  },
  {
   "cell_type": "code",
   "execution_count": 77,
   "metadata": {},
   "outputs": [],
   "source": [
    "outside_token = []\n",
    "outside_lyrics = df_outside['lyrics']\n",
    "outside_lyrics = outside_lyrics.apply(word_tokenize)\n",
    "for i in outside_lyrics:\n",
    "    for j in i:\n",
    "        outside_token.append(j)\n",
    "        \n",
    "outside_word_count = len(outside_token)\n",
    "outside_unique_word_count = len(set(outside_token))\n",
    "outside_lexical_diversity = outside_unique_word_count / float(outside_word_count)\n",
    "\n",
    "\n",
    "african_token = []\n",
    "african_lyrics = df_african['lyrics']\n",
    "african_lyrics = african_lyrics.apply(word_tokenize)\n",
    "for i in african_lyrics:\n",
    "    for j in i:\n",
    "        african_token.append(j)\n",
    "        \n",
    "african_word_count = len(african_token)\n",
    "african_unique_word_count = len(set(african_token))\n",
    "african_lexical_diversity = african_unique_word_count / float(african_word_count)\n",
    "\n",
    "\n",
    "\n",
    "twice_token = []\n",
    "twice_lyrics = df_twice['lyrics']\n",
    "twice_lyrics = twice_lyrics.apply(word_tokenize)\n",
    "for i in twice_lyrics:\n",
    "    for j in i:\n",
    "        twice_token.append(j)\n",
    "        \n",
    "twice_word_count = len(twice_token)\n",
    "twice_unique_word_count = len(set(twice_token))\n",
    "twice_lexical_diversity = twice_unique_word_count / float(twice_word_count)\n",
    "\n",
    "\n",
    "redemption_token = []\n",
    "redemption_lyrics = df_redemption['lyrics']\n",
    "redemption_lyrics = redemption_lyrics.apply(word_tokenize)\n",
    "for i in redemption_lyrics:\n",
    "    for j in i:\n",
    "        redemption_token.append(j)\n",
    "        \n",
    "redemption_word_count = len(redemption_token)\n",
    "redemption_unique_word_count = len(set(redemption_token))\n",
    "redemption_lexical_diversity = redemption_unique_word_count / float(redemption_word_count)\n",
    "\n",
    "\n",
    "life_token = []\n",
    "life_lyrics = df_life['lyrics']\n",
    "life_lyrics = life_lyrics.apply(word_tokenize)\n",
    "for i in life_lyrics:\n",
    "    for j in i:\n",
    "        life_token.append(j)\n",
    "        \n",
    "life_word_count = len(life_token)\n",
    "life_unique_word_count = len(set(life_token))\n",
    "life_lexical_diversity = life_unique_word_count / float(life_word_count)\n"
   ]
  },
  {
   "cell_type": "code",
   "execution_count": 79,
   "metadata": {},
   "outputs": [],
   "source": [
    "burna_stats = df_burna.groupby(['album']).agg({'lyrics': ' '.join}, inplace=True)\n",
    "burna_stats.reset_index(inplace=True)"
   ]
  },
  {
   "cell_type": "code",
   "execution_count": 80,
   "metadata": {},
   "outputs": [],
   "source": [
    "burna_stats['word_count'] = [outside_word_count, african_word_count, twice_word_count, redemption_word_count, life_word_count]\n",
    "burna_stats['unique_word_count'] = [outside_unique_word_count, african_unique_word_count, twice_unique_word_count, \n",
    "                                  redemption_unique_word_count, life_unique_word_count]\n",
    "burna_stats['lexical_diversity'] = [outside_lexical_diversity, african_lexical_diversity, twice_lexical_diversity, \n",
    "                                  redemption_lexical_diversity, life_lexical_diversity]\n",
    "burna_stats['year_released'] = [2018, 2019, 2020, 2016, 2013]\n",
    "burna_stats = burna_stats.sort_values('year_released').reset_index().drop(columns=('index'))\n",
    "burna_stats.drop(['lyrics'], axis=1, inplace=True)"
   ]
  },
  {
   "cell_type": "code",
   "execution_count": 81,
   "metadata": {},
   "outputs": [
    {
     "data": {
      "image/png": "[encoded data removed]",
      "text/plain": [
       "<Figure size 864x576 with 1 Axes>"
      ]
     },
     "metadata": {},
     "output_type": "display_data"
    }
   ],
   "source": [
    "plot_stats(burna_stats, 'Burna boy')"
   ]
  },
  {
   "cell_type": "code",
   "execution_count": 82,
   "metadata": {},
   "outputs": [],
   "source": [
    "def lyrical_stats(list1):\n",
    "    word_count = len(list1)\n",
    "    unique_word_count = len(set(list1))\n",
    "    lexical_diversity = unique_word_count / float(word_count)\n",
    "    return  word_count, unique_word_count, lexical_diversity "
   ]
  },
  {
   "cell_type": "code",
   "execution_count": 83,
   "metadata": {},
   "outputs": [
    {
     "data": {
      "text/plain": [
       "(16824, 1913, 0.11370660960532572)"
      ]
     },
     "execution_count": 83,
     "metadata": {},
     "output_type": "execute_result"
    }
   ],
   "source": [
    "lyrical_stats(wfiltered_words)"
   ]
  },
  {
   "cell_type": "code",
   "execution_count": 84,
   "metadata": {},
   "outputs": [
    {
     "data": {
      "text/plain": [
       "(14537, 2247, 0.15457109444864828)"
      ]
     },
     "execution_count": 84,
     "metadata": {},
     "output_type": "execute_result"
    }
   ],
   "source": [
    "lyrical_stats(dfiltered_words)"
   ]
  },
  {
   "cell_type": "code",
   "execution_count": 85,
   "metadata": {},
   "outputs": [
    {
     "data": {
      "text/plain": [
       "(17299, 2858, 0.16521186195733858)"
      ]
     },
     "execution_count": 85,
     "metadata": {},
     "output_type": "execute_result"
    }
   ],
   "source": [
    "lyrical_stats(bfiltered_words)"
   ]
  },
  {
   "cell_type": "code",
   "execution_count": 86,
   "metadata": {},
   "outputs": [
    {
     "data": {
      "text/html": [
       "<div>\n",
       "<style scoped>\n",
       "    .dataframe tbody tr th:only-of-type {\n",
       "        vertical-align: middle;\n",
       "    }\n",
       "\n",
       "    .dataframe tbody tr th {\n",
       "        vertical-align: top;\n",
       "    }\n",
       "\n",
       "    .dataframe thead th {\n",
       "        text-align: right;\n",
       "    }\n",
       "</style>\n",
       "<table border=\"1\" class=\"dataframe\">\n",
       "  <thead>\n",
       "    <tr style=\"text-align: right;\">\n",
       "      <th></th>\n",
       "      <th>Artist</th>\n",
       "      <th>Word_count</th>\n",
       "      <th>Unique_word_count</th>\n",
       "      <th>Lexical_diversity</th>\n",
       "    </tr>\n",
       "  </thead>\n",
       "  <tbody>\n",
       "    <tr>\n",
       "      <th>0</th>\n",
       "      <td>Wizkid</td>\n",
       "      <td>16824</td>\n",
       "      <td>1913</td>\n",
       "      <td>0.113707</td>\n",
       "    </tr>\n",
       "    <tr>\n",
       "      <th>1</th>\n",
       "      <td>Davido</td>\n",
       "      <td>14537</td>\n",
       "      <td>2247</td>\n",
       "      <td>0.154711</td>\n",
       "    </tr>\n",
       "    <tr>\n",
       "      <th>2</th>\n",
       "      <td>Burnaboy</td>\n",
       "      <td>17299</td>\n",
       "      <td>2856</td>\n",
       "      <td>0.165096</td>\n",
       "    </tr>\n",
       "  </tbody>\n",
       "</table>\n",
       "</div>"
      ],
      "text/plain": [
       "     Artist  Word_count  Unique_word_count  Lexical_diversity\n",
       "0    Wizkid       16824               1913           0.113707\n",
       "1    Davido       14537               2247           0.154711\n",
       "2  Burnaboy       17299               2856           0.165096"
      ]
     },
     "execution_count": 86,
     "metadata": {},
     "output_type": "execute_result"
    }
   ],
   "source": [
    "df_stats = pd.DataFrame({'Artist': ['Wizkid', 'Davido', 'Burnaboy'], 'Word_count' : [16824, 14537, 17299], \n",
    "                         'Unique_word_count': [1913, 2247, 2856], \n",
    "                    'Lexical_diversity' : [0.11370660, 0.15471094, 0.16509624]})\n",
    "df_stats"
   ]
  },
  {
   "cell_type": "code",
   "execution_count": 87,
   "metadata": {},
   "outputs": [
    {
     "data": {
      "image/png": "[encoded data removed]",
      "text/plain": [
       "<Figure size 720x360 with 1 Axes>"
      ]
     },
     "metadata": {},
     "output_type": "display_data"
    }
   ],
   "source": [
    "pos = list(range(len(df_stats['Word_count'])))\n",
    "width = 0.30\n",
    "fig, ax = plt.subplots(figsize=(10,5))\n",
    "plt.bar(pos, df_stats['Word_count'], width, alpha=0.5, color='aqua', label='Word_count')\n",
    "plt.bar([p + width for p in pos], df_stats['Unique_word_count'], width, alpha=0.5, color= 'darkcyan', label='Unique_word_count')\n",
    "ax.set_xticks([p + 1.0 * width for p in pos])\n",
    "ax.set_xticklabels(df_stats['Artist'])\n",
    "ax.set_ylabel('Stats')\n",
    "ax.set_title('Breakdown of Lyrical  Statistics')\n",
    "plt.xlim(min(pos)-width, max(pos)+width*2)\n",
    "plt.ylim([0, max(df_stats['Word_count'] + df_stats['Unique_word_count'])])\n",
    "plt.grid(b=None)\n",
    "plt.legend()\n",
    "plt.show()"
   ]
  },
  {
   "cell_type": "code",
   "execution_count": 88,
   "metadata": {},
   "outputs": [
    {
     "data": {
      "image/png": "[encoded data removed]",
      "text/plain": [
       "<Figure size 720x360 with 1 Axes>"
      ]
     },
     "metadata": {},
     "output_type": "display_data"
    }
   ],
   "source": [
    "fig = plt.figure(figsize=(10,5))\n",
    "sns.lineplot(data = df_stats, x = 'Artist', y = 'Lexical_diversity', label = 'lexical_diversity', color='blue')\n",
    "plt.grid(b=None)\n",
    "plt.xlabel('artist', size=12)\n",
    "plt.ylabel('stats', size=12)\n",
    "plt.title(\"Artists' Lexical Diversity\", size=16)\n",
    "plt.show()"
   ]
  },
  {
   "cell_type": "code",
   "execution_count": null,
   "metadata": {},
   "outputs": [],
   "source": []
  }
 ],
 "metadata": {
  "kernelspec": {
   "display_name": "Python 3",
   "language": "python",
   "name": "python3"
  },
  "language_info": {
   "codemirror_mode": {
    "name": "ipython",
    "version": 3
   },
   "file_extension": ".py",
   "mimetype": "text/x-python",
   "name": "python",
   "nbconvert_exporter": "python",
   "pygments_lexer": "ipython3",
   "version": "3.8.3"
  }
 },
 "nbformat": 4,
 "nbformat_minor": 4
}
